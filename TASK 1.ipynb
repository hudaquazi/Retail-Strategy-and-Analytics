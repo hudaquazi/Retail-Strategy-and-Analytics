{
 "cells": [
  {
   "cell_type": "markdown",
   "id": "0d69d9d0",
   "metadata": {},
   "source": [
    "# **Task 1: Data preparation and customer analytics**"
   ]
  },
  {
   "cell_type": "markdown",
   "id": "a7b8b16c",
   "metadata": {},
   "source": [
    "- Creating and interpreting high level summaries of the data\n",
    "- Finding outliers and removing these (if applicable)\n",
    "- Checking data formats and correcting (if applicable)\n",
    "- Derive extra features such as pack size and brand name from the data "
   ]
  },
  {
   "cell_type": "markdown",
   "id": "98c85fdd",
   "metadata": {},
   "source": [
    "### Import libraries"
   ]
  },
  {
   "cell_type": "code",
   "execution_count": 1,
   "id": "d86e05fd",
   "metadata": {},
   "outputs": [],
   "source": [
    "#import preprocessing libraries\n",
    "import numpy as np\n",
    "import pandas as pd\n",
    "\n",
    "#import visualisation library\n",
    "import matplotlib.pyplot as plt\n",
    "import seaborn as sns\n",
    "\n",
    "from scipy import stats\n",
    "\n",
    "from mlxtend.frequent_patterns import apriori, association_rules"
   ]
  },
  {
   "cell_type": "markdown",
   "id": "3b207210",
   "metadata": {},
   "source": [
    "**LIFESTAGE**: Customer attribute that identifies whether a customer has a family or not and what point in life they are at e.g. are their children in pre-school/primary/secondary school."
   ]
  },
  {
   "cell_type": "markdown",
   "id": "39d74c39",
   "metadata": {},
   "source": [
    "**PREMIUM_CUSTOMER**: Customer segmentation used to differentiate shoppers by the price point of products they buy and the types of products they buy. It is used to identify whether customers may spend more for quality or brand or whether they will purchase the cheapest options."
   ]
  },
  {
   "cell_type": "markdown",
   "id": "8639744b",
   "metadata": {},
   "source": [
    "\n",
    "\n",
    "### Read data files"
   ]
  },
  {
   "cell_type": "code",
   "execution_count": 2,
   "id": "bfe63973",
   "metadata": {},
   "outputs": [],
   "source": [
    "df_purchase = pd.read_csv('QVI_purchase_behaviour.csv')"
   ]
  },
  {
   "cell_type": "code",
   "execution_count": 3,
   "id": "54357726",
   "metadata": {},
   "outputs": [],
   "source": [
    "df_transaction = pd.read_excel('QVI_transaction_data.xlsx')"
   ]
  },
  {
   "cell_type": "markdown",
   "id": "75e7bf71",
   "metadata": {},
   "source": [
    "## Exploratory data analysis"
   ]
  },
  {
   "cell_type": "markdown",
   "id": "0e02bb87",
   "metadata": {},
   "source": [
    "### Examining customer data"
   ]
  },
  {
   "cell_type": "code",
   "execution_count": 4,
   "id": "c1e7d258",
   "metadata": {},
   "outputs": [
    {
     "data": {
      "text/html": [
       "<div>\n",
       "<style scoped>\n",
       "    .dataframe tbody tr th:only-of-type {\n",
       "        vertical-align: middle;\n",
       "    }\n",
       "\n",
       "    .dataframe tbody tr th {\n",
       "        vertical-align: top;\n",
       "    }\n",
       "\n",
       "    .dataframe thead th {\n",
       "        text-align: right;\n",
       "    }\n",
       "</style>\n",
       "<table border=\"1\" class=\"dataframe\">\n",
       "  <thead>\n",
       "    <tr style=\"text-align: right;\">\n",
       "      <th></th>\n",
       "      <th>LYLTY_CARD_NBR</th>\n",
       "      <th>LIFESTAGE</th>\n",
       "      <th>PREMIUM_CUSTOMER</th>\n",
       "    </tr>\n",
       "  </thead>\n",
       "  <tbody>\n",
       "    <tr>\n",
       "      <th>0</th>\n",
       "      <td>1000</td>\n",
       "      <td>YOUNG SINGLES/COUPLES</td>\n",
       "      <td>Premium</td>\n",
       "    </tr>\n",
       "    <tr>\n",
       "      <th>1</th>\n",
       "      <td>1002</td>\n",
       "      <td>YOUNG SINGLES/COUPLES</td>\n",
       "      <td>Mainstream</td>\n",
       "    </tr>\n",
       "    <tr>\n",
       "      <th>2</th>\n",
       "      <td>1003</td>\n",
       "      <td>YOUNG FAMILIES</td>\n",
       "      <td>Budget</td>\n",
       "    </tr>\n",
       "    <tr>\n",
       "      <th>3</th>\n",
       "      <td>1004</td>\n",
       "      <td>OLDER SINGLES/COUPLES</td>\n",
       "      <td>Mainstream</td>\n",
       "    </tr>\n",
       "    <tr>\n",
       "      <th>4</th>\n",
       "      <td>1005</td>\n",
       "      <td>MIDAGE SINGLES/COUPLES</td>\n",
       "      <td>Mainstream</td>\n",
       "    </tr>\n",
       "  </tbody>\n",
       "</table>\n",
       "</div>"
      ],
      "text/plain": [
       "   LYLTY_CARD_NBR               LIFESTAGE PREMIUM_CUSTOMER\n",
       "0            1000   YOUNG SINGLES/COUPLES          Premium\n",
       "1            1002   YOUNG SINGLES/COUPLES       Mainstream\n",
       "2            1003          YOUNG FAMILIES           Budget\n",
       "3            1004   OLDER SINGLES/COUPLES       Mainstream\n",
       "4            1005  MIDAGE SINGLES/COUPLES       Mainstream"
      ]
     },
     "execution_count": 4,
     "metadata": {},
     "output_type": "execute_result"
    }
   ],
   "source": [
    "#print first few rows of customer dataset\n",
    "df_purchase.head()"
   ]
  },
  {
   "cell_type": "code",
   "execution_count": 5,
   "id": "ea33d3df",
   "metadata": {},
   "outputs": [
    {
     "name": "stdout",
     "output_type": "stream",
     "text": [
      "<class 'pandas.core.frame.DataFrame'>\n",
      "RangeIndex: 72637 entries, 0 to 72636\n",
      "Data columns (total 3 columns):\n",
      " #   Column            Non-Null Count  Dtype \n",
      "---  ------            --------------  ----- \n",
      " 0   LYLTY_CARD_NBR    72637 non-null  int64 \n",
      " 1   LIFESTAGE         72637 non-null  object\n",
      " 2   PREMIUM_CUSTOMER  72637 non-null  object\n",
      "dtypes: int64(1), object(2)\n",
      "memory usage: 1.7+ MB\n"
     ]
    }
   ],
   "source": [
    "#Customer data summary\n",
    "df_purchase.info()"
   ]
  },
  {
   "cell_type": "code",
   "execution_count": 6,
   "id": "9461a5ff",
   "metadata": {},
   "outputs": [
    {
     "data": {
      "text/plain": [
       "array(['YOUNG SINGLES/COUPLES', 'YOUNG FAMILIES', 'OLDER SINGLES/COUPLES',\n",
       "       'MIDAGE SINGLES/COUPLES', 'NEW FAMILIES', 'OLDER FAMILIES',\n",
       "       'RETIREES'], dtype=object)"
      ]
     },
     "execution_count": 6,
     "metadata": {},
     "output_type": "execute_result"
    }
   ],
   "source": [
    "df_purchase['LIFESTAGE'].unique()"
   ]
  },
  {
   "cell_type": "code",
   "execution_count": 7,
   "id": "4257a7b8",
   "metadata": {},
   "outputs": [
    {
     "data": {
      "text/plain": [
       "LIFESTAGE\n",
       "RETIREES                  14805\n",
       "OLDER SINGLES/COUPLES     14609\n",
       "YOUNG SINGLES/COUPLES     14441\n",
       "OLDER FAMILIES             9780\n",
       "YOUNG FAMILIES             9178\n",
       "MIDAGE SINGLES/COUPLES     7275\n",
       "NEW FAMILIES               2549\n",
       "dtype: int64"
      ]
     },
     "execution_count": 7,
     "metadata": {},
     "output_type": "execute_result"
    }
   ],
   "source": [
    "df_purchase.groupby('LIFESTAGE').size().sort_values(ascending=False)"
   ]
  },
  {
   "cell_type": "code",
   "execution_count": 8,
   "id": "0f9b9abf",
   "metadata": {},
   "outputs": [
    {
     "data": {
      "text/plain": [
       "array(['Premium', 'Mainstream', 'Budget'], dtype=object)"
      ]
     },
     "execution_count": 8,
     "metadata": {},
     "output_type": "execute_result"
    }
   ],
   "source": [
    "df_purchase['PREMIUM_CUSTOMER'].unique()"
   ]
  },
  {
   "cell_type": "code",
   "execution_count": 9,
   "id": "02621670",
   "metadata": {},
   "outputs": [
    {
     "data": {
      "text/plain": [
       "PREMIUM_CUSTOMER\n",
       "Mainstream    29245\n",
       "Budget        24470\n",
       "Premium       18922\n",
       "dtype: int64"
      ]
     },
     "execution_count": 9,
     "metadata": {},
     "output_type": "execute_result"
    }
   ],
   "source": [
    "df_purchase.groupby('PREMIUM_CUSTOMER').size().sort_values(ascending=False)"
   ]
  },
  {
   "cell_type": "markdown",
   "id": "37c4892e",
   "metadata": {},
   "source": [
    "### Examining transaction data"
   ]
  },
  {
   "cell_type": "code",
   "execution_count": 10,
   "id": "9e89b7cb",
   "metadata": {},
   "outputs": [
    {
     "data": {
      "text/html": [
       "<div>\n",
       "<style scoped>\n",
       "    .dataframe tbody tr th:only-of-type {\n",
       "        vertical-align: middle;\n",
       "    }\n",
       "\n",
       "    .dataframe tbody tr th {\n",
       "        vertical-align: top;\n",
       "    }\n",
       "\n",
       "    .dataframe thead th {\n",
       "        text-align: right;\n",
       "    }\n",
       "</style>\n",
       "<table border=\"1\" class=\"dataframe\">\n",
       "  <thead>\n",
       "    <tr style=\"text-align: right;\">\n",
       "      <th></th>\n",
       "      <th>DATE</th>\n",
       "      <th>STORE_NBR</th>\n",
       "      <th>LYLTY_CARD_NBR</th>\n",
       "      <th>TXN_ID</th>\n",
       "      <th>PROD_NBR</th>\n",
       "      <th>PROD_NAME</th>\n",
       "      <th>PROD_QTY</th>\n",
       "      <th>TOT_SALES</th>\n",
       "    </tr>\n",
       "  </thead>\n",
       "  <tbody>\n",
       "    <tr>\n",
       "      <th>0</th>\n",
       "      <td>43390</td>\n",
       "      <td>1</td>\n",
       "      <td>1000</td>\n",
       "      <td>1</td>\n",
       "      <td>5</td>\n",
       "      <td>Natural Chip        Compny SeaSalt175g</td>\n",
       "      <td>2</td>\n",
       "      <td>6.0</td>\n",
       "    </tr>\n",
       "    <tr>\n",
       "      <th>1</th>\n",
       "      <td>43599</td>\n",
       "      <td>1</td>\n",
       "      <td>1307</td>\n",
       "      <td>348</td>\n",
       "      <td>66</td>\n",
       "      <td>CCs Nacho Cheese    175g</td>\n",
       "      <td>3</td>\n",
       "      <td>6.3</td>\n",
       "    </tr>\n",
       "    <tr>\n",
       "      <th>2</th>\n",
       "      <td>43605</td>\n",
       "      <td>1</td>\n",
       "      <td>1343</td>\n",
       "      <td>383</td>\n",
       "      <td>61</td>\n",
       "      <td>Smiths Crinkle Cut  Chips Chicken 170g</td>\n",
       "      <td>2</td>\n",
       "      <td>2.9</td>\n",
       "    </tr>\n",
       "    <tr>\n",
       "      <th>3</th>\n",
       "      <td>43329</td>\n",
       "      <td>2</td>\n",
       "      <td>2373</td>\n",
       "      <td>974</td>\n",
       "      <td>69</td>\n",
       "      <td>Smiths Chip Thinly  S/Cream&amp;Onion 175g</td>\n",
       "      <td>5</td>\n",
       "      <td>15.0</td>\n",
       "    </tr>\n",
       "    <tr>\n",
       "      <th>4</th>\n",
       "      <td>43330</td>\n",
       "      <td>2</td>\n",
       "      <td>2426</td>\n",
       "      <td>1038</td>\n",
       "      <td>108</td>\n",
       "      <td>Kettle Tortilla ChpsHny&amp;Jlpno Chili 150g</td>\n",
       "      <td>3</td>\n",
       "      <td>13.8</td>\n",
       "    </tr>\n",
       "  </tbody>\n",
       "</table>\n",
       "</div>"
      ],
      "text/plain": [
       "    DATE  STORE_NBR  LYLTY_CARD_NBR  TXN_ID  PROD_NBR  \\\n",
       "0  43390          1            1000       1         5   \n",
       "1  43599          1            1307     348        66   \n",
       "2  43605          1            1343     383        61   \n",
       "3  43329          2            2373     974        69   \n",
       "4  43330          2            2426    1038       108   \n",
       "\n",
       "                                  PROD_NAME  PROD_QTY  TOT_SALES  \n",
       "0    Natural Chip        Compny SeaSalt175g         2        6.0  \n",
       "1                  CCs Nacho Cheese    175g         3        6.3  \n",
       "2    Smiths Crinkle Cut  Chips Chicken 170g         2        2.9  \n",
       "3    Smiths Chip Thinly  S/Cream&Onion 175g         5       15.0  \n",
       "4  Kettle Tortilla ChpsHny&Jlpno Chili 150g         3       13.8  "
      ]
     },
     "execution_count": 10,
     "metadata": {},
     "output_type": "execute_result"
    }
   ],
   "source": [
    "#print first few rows of transaction dataset\n",
    "df_transaction.head()"
   ]
  },
  {
   "cell_type": "code",
   "execution_count": 11,
   "id": "d060e5d2",
   "metadata": {},
   "outputs": [
    {
     "name": "stdout",
     "output_type": "stream",
     "text": [
      "<class 'pandas.core.frame.DataFrame'>\n",
      "RangeIndex: 264836 entries, 0 to 264835\n",
      "Data columns (total 8 columns):\n",
      " #   Column          Non-Null Count   Dtype  \n",
      "---  ------          --------------   -----  \n",
      " 0   DATE            264836 non-null  int64  \n",
      " 1   STORE_NBR       264836 non-null  int64  \n",
      " 2   LYLTY_CARD_NBR  264836 non-null  int64  \n",
      " 3   TXN_ID          264836 non-null  int64  \n",
      " 4   PROD_NBR        264836 non-null  int64  \n",
      " 5   PROD_NAME       264836 non-null  object \n",
      " 6   PROD_QTY        264836 non-null  int64  \n",
      " 7   TOT_SALES       264836 non-null  float64\n",
      "dtypes: float64(1), int64(6), object(1)\n",
      "memory usage: 16.2+ MB\n"
     ]
    }
   ],
   "source": [
    "#Transaction data summary\n",
    "df_transaction.info()"
   ]
  },
  {
   "cell_type": "markdown",
   "id": "5c419d1a",
   "metadata": {},
   "source": [
    "The format of 'DATE' column is integer. Change it to 'datetime' "
   ]
  },
  {
   "cell_type": "markdown",
   "id": "f1a621fe",
   "metadata": {},
   "source": [
    "#### Examine transaction data"
   ]
  },
  {
   "cell_type": "code",
   "execution_count": 12,
   "id": "8b70055d",
   "metadata": {},
   "outputs": [
    {
     "data": {
      "text/html": [
       "<div>\n",
       "<style scoped>\n",
       "    .dataframe tbody tr th:only-of-type {\n",
       "        vertical-align: middle;\n",
       "    }\n",
       "\n",
       "    .dataframe tbody tr th {\n",
       "        vertical-align: top;\n",
       "    }\n",
       "\n",
       "    .dataframe thead th {\n",
       "        text-align: right;\n",
       "    }\n",
       "</style>\n",
       "<table border=\"1\" class=\"dataframe\">\n",
       "  <thead>\n",
       "    <tr style=\"text-align: right;\">\n",
       "      <th></th>\n",
       "      <th>DATE</th>\n",
       "      <th>STORE_NBR</th>\n",
       "      <th>LYLTY_CARD_NBR</th>\n",
       "      <th>TXN_ID</th>\n",
       "      <th>PROD_NBR</th>\n",
       "      <th>PROD_NAME</th>\n",
       "      <th>PROD_QTY</th>\n",
       "      <th>TOT_SALES</th>\n",
       "    </tr>\n",
       "  </thead>\n",
       "  <tbody>\n",
       "    <tr>\n",
       "      <th>0</th>\n",
       "      <td>2018-10-17</td>\n",
       "      <td>1</td>\n",
       "      <td>1000</td>\n",
       "      <td>1</td>\n",
       "      <td>5</td>\n",
       "      <td>Natural Chip        Compny SeaSalt175g</td>\n",
       "      <td>2</td>\n",
       "      <td>6.0</td>\n",
       "    </tr>\n",
       "    <tr>\n",
       "      <th>1</th>\n",
       "      <td>2019-05-14</td>\n",
       "      <td>1</td>\n",
       "      <td>1307</td>\n",
       "      <td>348</td>\n",
       "      <td>66</td>\n",
       "      <td>CCs Nacho Cheese    175g</td>\n",
       "      <td>3</td>\n",
       "      <td>6.3</td>\n",
       "    </tr>\n",
       "    <tr>\n",
       "      <th>2</th>\n",
       "      <td>2019-05-20</td>\n",
       "      <td>1</td>\n",
       "      <td>1343</td>\n",
       "      <td>383</td>\n",
       "      <td>61</td>\n",
       "      <td>Smiths Crinkle Cut  Chips Chicken 170g</td>\n",
       "      <td>2</td>\n",
       "      <td>2.9</td>\n",
       "    </tr>\n",
       "    <tr>\n",
       "      <th>3</th>\n",
       "      <td>2018-08-17</td>\n",
       "      <td>2</td>\n",
       "      <td>2373</td>\n",
       "      <td>974</td>\n",
       "      <td>69</td>\n",
       "      <td>Smiths Chip Thinly  S/Cream&amp;Onion 175g</td>\n",
       "      <td>5</td>\n",
       "      <td>15.0</td>\n",
       "    </tr>\n",
       "    <tr>\n",
       "      <th>4</th>\n",
       "      <td>2018-08-18</td>\n",
       "      <td>2</td>\n",
       "      <td>2426</td>\n",
       "      <td>1038</td>\n",
       "      <td>108</td>\n",
       "      <td>Kettle Tortilla ChpsHny&amp;Jlpno Chili 150g</td>\n",
       "      <td>3</td>\n",
       "      <td>13.8</td>\n",
       "    </tr>\n",
       "  </tbody>\n",
       "</table>\n",
       "</div>"
      ],
      "text/plain": [
       "        DATE  STORE_NBR  LYLTY_CARD_NBR  TXN_ID  PROD_NBR  \\\n",
       "0 2018-10-17          1            1000       1         5   \n",
       "1 2019-05-14          1            1307     348        66   \n",
       "2 2019-05-20          1            1343     383        61   \n",
       "3 2018-08-17          2            2373     974        69   \n",
       "4 2018-08-18          2            2426    1038       108   \n",
       "\n",
       "                                  PROD_NAME  PROD_QTY  TOT_SALES  \n",
       "0    Natural Chip        Compny SeaSalt175g         2        6.0  \n",
       "1                  CCs Nacho Cheese    175g         3        6.3  \n",
       "2    Smiths Crinkle Cut  Chips Chicken 170g         2        2.9  \n",
       "3    Smiths Chip Thinly  S/Cream&Onion 175g         5       15.0  \n",
       "4  Kettle Tortilla ChpsHny&Jlpno Chili 150g         3       13.8  "
      ]
     },
     "execution_count": 12,
     "metadata": {},
     "output_type": "execute_result"
    }
   ],
   "source": [
    "#change the format of 'DATE' column\n",
    "df_transaction['DATE'] = pd.to_datetime(df_transaction['DATE'], unit='D', origin='1899-12-30')\n",
    "df_transaction.head()"
   ]
  },
  {
   "cell_type": "code",
   "execution_count": 13,
   "id": "0a5b5142",
   "metadata": {},
   "outputs": [
    {
     "name": "stdout",
     "output_type": "stream",
     "text": [
      "<class 'pandas.core.series.Series'>\n",
      "RangeIndex: 264836 entries, 0 to 264835\n",
      "Series name: DATE\n",
      "Non-Null Count   Dtype         \n",
      "--------------   -----         \n",
      "264836 non-null  datetime64[ns]\n",
      "dtypes: datetime64[ns](1)\n",
      "memory usage: 2.0 MB\n"
     ]
    }
   ],
   "source": [
    "df_transaction['DATE'].info()"
   ]
  },
  {
   "cell_type": "markdown",
   "id": "04b3334b",
   "metadata": {},
   "source": [
    "#### Examine PROD_NAME"
   ]
  },
  {
   "cell_type": "markdown",
   "id": "d98d243d",
   "metadata": {},
   "source": [
    "- Examine the words in PROD_NAME to see if there are any incorrect entries such as products that are not chips\n",
    "- As we are only interested in words that will tell us if the product is chips or not, let's remove all words with digits and special characters such as '&' from our set of product words.\n",
    "- Then sort the distinct words by frequency of occurrence in order of highest to lowest frequency"
   ]
  },
  {
   "cell_type": "code",
   "execution_count": 14,
   "id": "9e14cf7e",
   "metadata": {},
   "outputs": [
    {
     "data": {
      "text/html": [
       "<div>\n",
       "<style scoped>\n",
       "    .dataframe tbody tr th:only-of-type {\n",
       "        vertical-align: middle;\n",
       "    }\n",
       "\n",
       "    .dataframe tbody tr th {\n",
       "        vertical-align: top;\n",
       "    }\n",
       "\n",
       "    .dataframe thead th {\n",
       "        text-align: right;\n",
       "    }\n",
       "</style>\n",
       "<table border=\"1\" class=\"dataframe\">\n",
       "  <thead>\n",
       "    <tr style=\"text-align: right;\">\n",
       "      <th></th>\n",
       "      <th>frequency</th>\n",
       "    </tr>\n",
       "    <tr>\n",
       "      <th>word</th>\n",
       "      <th></th>\n",
       "    </tr>\n",
       "  </thead>\n",
       "  <tbody>\n",
       "    <tr>\n",
       "      <th>g</th>\n",
       "      <td>105</td>\n",
       "    </tr>\n",
       "    <tr>\n",
       "      <th>Chips</th>\n",
       "      <td>21</td>\n",
       "    </tr>\n",
       "    <tr>\n",
       "      <th>Smiths</th>\n",
       "      <td>16</td>\n",
       "    </tr>\n",
       "    <tr>\n",
       "      <th>Cut</th>\n",
       "      <td>14</td>\n",
       "    </tr>\n",
       "    <tr>\n",
       "      <th>Crinkle</th>\n",
       "      <td>14</td>\n",
       "    </tr>\n",
       "    <tr>\n",
       "      <th>Kettle</th>\n",
       "      <td>13</td>\n",
       "    </tr>\n",
       "    <tr>\n",
       "      <th>Salt</th>\n",
       "      <td>12</td>\n",
       "    </tr>\n",
       "    <tr>\n",
       "      <th>Cheese</th>\n",
       "      <td>12</td>\n",
       "    </tr>\n",
       "    <tr>\n",
       "      <th>Original</th>\n",
       "      <td>10</td>\n",
       "    </tr>\n",
       "    <tr>\n",
       "      <th>Salsa</th>\n",
       "      <td>9</td>\n",
       "    </tr>\n",
       "    <tr>\n",
       "      <th>Doritos</th>\n",
       "      <td>9</td>\n",
       "    </tr>\n",
       "    <tr>\n",
       "      <th>Chip</th>\n",
       "      <td>9</td>\n",
       "    </tr>\n",
       "    <tr>\n",
       "      <th>Corn</th>\n",
       "      <td>8</td>\n",
       "    </tr>\n",
       "    <tr>\n",
       "      <th>Pringles</th>\n",
       "      <td>8</td>\n",
       "    </tr>\n",
       "    <tr>\n",
       "      <th>RRD</th>\n",
       "      <td>8</td>\n",
       "    </tr>\n",
       "    <tr>\n",
       "      <th>Chicken</th>\n",
       "      <td>7</td>\n",
       "    </tr>\n",
       "    <tr>\n",
       "      <th>WW</th>\n",
       "      <td>7</td>\n",
       "    </tr>\n",
       "    <tr>\n",
       "      <th>Sour</th>\n",
       "      <td>6</td>\n",
       "    </tr>\n",
       "    <tr>\n",
       "      <th>Chilli</th>\n",
       "      <td>6</td>\n",
       "    </tr>\n",
       "    <tr>\n",
       "      <th>Sea</th>\n",
       "      <td>6</td>\n",
       "    </tr>\n",
       "  </tbody>\n",
       "</table>\n",
       "</div>"
      ],
      "text/plain": [
       "          frequency\n",
       "word               \n",
       "g               105\n",
       "Chips            21\n",
       "Smiths           16\n",
       "Cut              14\n",
       "Crinkle          14\n",
       "Kettle           13\n",
       "Salt             12\n",
       "Cheese           12\n",
       "Original         10\n",
       "Salsa             9\n",
       "Doritos           9\n",
       "Chip              9\n",
       "Corn              8\n",
       "Pringles          8\n",
       "RRD               8\n",
       "Chicken           7\n",
       "WW                7\n",
       "Sour              6\n",
       "Chilli            6\n",
       "Sea               6"
      ]
     },
     "execution_count": 14,
     "metadata": {},
     "output_type": "execute_result"
    }
   ],
   "source": [
    "import re\n",
    "from collections import Counter\n",
    "\n",
    "\n",
    "# Get unique product names\n",
    "unique_product_names = df_transaction['PROD_NAME'].unique()\n",
    "\n",
    "# Initialize a Counter to store word frequency\n",
    "word_frequency = Counter()\n",
    "\n",
    "# Define a regex pattern to match special characters and digits\n",
    "pattern = re.compile(r'[^a-zA-Z]')  # This pattern will match anything that is not a letter\n",
    "\n",
    "# Process each unique product name\n",
    "for name in unique_product_names:\n",
    "    words = name.split()\n",
    "    cleaned_words = [pattern.sub('', word) for word in words if pattern.sub('', word)]  # Remove empty words\n",
    "    word_frequency.update(cleaned_words)\n",
    "\n",
    "# Convert the Counter to a DataFrame\n",
    "word_frequency_df = pd.DataFrame.from_dict(word_frequency, orient='index', columns=['frequency'])\n",
    "word_frequency_df.index.name = 'word'\n",
    "\n",
    "# Sort the DataFrame by frequency in descending order\n",
    "word_frequency_df = word_frequency_df.sort_values(by='frequency', ascending=False)\n",
    "\n",
    "# Print the resulting DataFrame\n",
    "word_frequency_df.head(20)"
   ]
  },
  {
   "cell_type": "markdown",
   "id": "1c116de2",
   "metadata": {},
   "source": [
    "There are salsa products in the dataset but we are only interested in the chips\n",
    "category, so let's remove these."
   ]
  },
  {
   "cell_type": "code",
   "execution_count": 15,
   "id": "6c21672e",
   "metadata": {},
   "outputs": [],
   "source": [
    "salsa = df_transaction['PROD_NAME'].str.contains('Salsa', case=False)\n",
    "df_transaction = df_transaction[~salsa]"
   ]
  },
  {
   "cell_type": "markdown",
   "id": "7256982b",
   "metadata": {},
   "source": [
    "check summary statistics such as mean, min and max values for each feature to see if there are any obvious outliers in the data and if there are any nulls in any of the columns and possible outliers"
   ]
  },
  {
   "cell_type": "code",
   "execution_count": 16,
   "id": "67b50e79",
   "metadata": {},
   "outputs": [
    {
     "data": {
      "text/html": [
       "<div>\n",
       "<style scoped>\n",
       "    .dataframe tbody tr th:only-of-type {\n",
       "        vertical-align: middle;\n",
       "    }\n",
       "\n",
       "    .dataframe tbody tr th {\n",
       "        vertical-align: top;\n",
       "    }\n",
       "\n",
       "    .dataframe thead th {\n",
       "        text-align: right;\n",
       "    }\n",
       "</style>\n",
       "<table border=\"1\" class=\"dataframe\">\n",
       "  <thead>\n",
       "    <tr style=\"text-align: right;\">\n",
       "      <th></th>\n",
       "      <th>STORE_NBR</th>\n",
       "      <th>LYLTY_CARD_NBR</th>\n",
       "      <th>TXN_ID</th>\n",
       "      <th>PROD_NBR</th>\n",
       "      <th>PROD_QTY</th>\n",
       "      <th>TOT_SALES</th>\n",
       "    </tr>\n",
       "  </thead>\n",
       "  <tbody>\n",
       "    <tr>\n",
       "      <th>count</th>\n",
       "      <td>246742.000000</td>\n",
       "      <td>2.467420e+05</td>\n",
       "      <td>2.467420e+05</td>\n",
       "      <td>246742.000000</td>\n",
       "      <td>246742.000000</td>\n",
       "      <td>246742.000000</td>\n",
       "    </tr>\n",
       "    <tr>\n",
       "      <th>mean</th>\n",
       "      <td>135.051098</td>\n",
       "      <td>1.355310e+05</td>\n",
       "      <td>1.351311e+05</td>\n",
       "      <td>56.351789</td>\n",
       "      <td>1.908062</td>\n",
       "      <td>7.321322</td>\n",
       "    </tr>\n",
       "    <tr>\n",
       "      <th>std</th>\n",
       "      <td>76.787096</td>\n",
       "      <td>8.071528e+04</td>\n",
       "      <td>7.814772e+04</td>\n",
       "      <td>33.695428</td>\n",
       "      <td>0.659831</td>\n",
       "      <td>3.077828</td>\n",
       "    </tr>\n",
       "    <tr>\n",
       "      <th>min</th>\n",
       "      <td>1.000000</td>\n",
       "      <td>1.000000e+03</td>\n",
       "      <td>1.000000e+00</td>\n",
       "      <td>1.000000</td>\n",
       "      <td>1.000000</td>\n",
       "      <td>1.700000</td>\n",
       "    </tr>\n",
       "    <tr>\n",
       "      <th>25%</th>\n",
       "      <td>70.000000</td>\n",
       "      <td>7.001500e+04</td>\n",
       "      <td>6.756925e+04</td>\n",
       "      <td>26.000000</td>\n",
       "      <td>2.000000</td>\n",
       "      <td>5.800000</td>\n",
       "    </tr>\n",
       "    <tr>\n",
       "      <th>50%</th>\n",
       "      <td>130.000000</td>\n",
       "      <td>1.303670e+05</td>\n",
       "      <td>1.351830e+05</td>\n",
       "      <td>53.000000</td>\n",
       "      <td>2.000000</td>\n",
       "      <td>7.400000</td>\n",
       "    </tr>\n",
       "    <tr>\n",
       "      <th>75%</th>\n",
       "      <td>203.000000</td>\n",
       "      <td>2.030840e+05</td>\n",
       "      <td>2.026538e+05</td>\n",
       "      <td>87.000000</td>\n",
       "      <td>2.000000</td>\n",
       "      <td>8.800000</td>\n",
       "    </tr>\n",
       "    <tr>\n",
       "      <th>max</th>\n",
       "      <td>272.000000</td>\n",
       "      <td>2.373711e+06</td>\n",
       "      <td>2.415841e+06</td>\n",
       "      <td>114.000000</td>\n",
       "      <td>200.000000</td>\n",
       "      <td>650.000000</td>\n",
       "    </tr>\n",
       "  </tbody>\n",
       "</table>\n",
       "</div>"
      ],
      "text/plain": [
       "           STORE_NBR  LYLTY_CARD_NBR        TXN_ID       PROD_NBR  \\\n",
       "count  246742.000000    2.467420e+05  2.467420e+05  246742.000000   \n",
       "mean      135.051098    1.355310e+05  1.351311e+05      56.351789   \n",
       "std        76.787096    8.071528e+04  7.814772e+04      33.695428   \n",
       "min         1.000000    1.000000e+03  1.000000e+00       1.000000   \n",
       "25%        70.000000    7.001500e+04  6.756925e+04      26.000000   \n",
       "50%       130.000000    1.303670e+05  1.351830e+05      53.000000   \n",
       "75%       203.000000    2.030840e+05  2.026538e+05      87.000000   \n",
       "max       272.000000    2.373711e+06  2.415841e+06     114.000000   \n",
       "\n",
       "            PROD_QTY      TOT_SALES  \n",
       "count  246742.000000  246742.000000  \n",
       "mean        1.908062       7.321322  \n",
       "std         0.659831       3.077828  \n",
       "min         1.000000       1.700000  \n",
       "25%         2.000000       5.800000  \n",
       "50%         2.000000       7.400000  \n",
       "75%         2.000000       8.800000  \n",
       "max       200.000000     650.000000  "
      ]
     },
     "execution_count": 16,
     "metadata": {},
     "output_type": "execute_result"
    }
   ],
   "source": [
    "#statistical summary\n",
    "df_transaction.describe()"
   ]
  },
  {
   "cell_type": "code",
   "execution_count": 17,
   "id": "f480199e",
   "metadata": {},
   "outputs": [
    {
     "name": "stdout",
     "output_type": "stream",
     "text": [
      "<class 'pandas.core.frame.DataFrame'>\n",
      "Int64Index: 246742 entries, 0 to 264835\n",
      "Data columns (total 8 columns):\n",
      " #   Column          Non-Null Count   Dtype         \n",
      "---  ------          --------------   -----         \n",
      " 0   DATE            246742 non-null  datetime64[ns]\n",
      " 1   STORE_NBR       246742 non-null  int64         \n",
      " 2   LYLTY_CARD_NBR  246742 non-null  int64         \n",
      " 3   TXN_ID          246742 non-null  int64         \n",
      " 4   PROD_NBR        246742 non-null  int64         \n",
      " 5   PROD_NAME       246742 non-null  object        \n",
      " 6   PROD_QTY        246742 non-null  int64         \n",
      " 7   TOT_SALES       246742 non-null  float64       \n",
      "dtypes: datetime64[ns](1), float64(1), int64(5), object(1)\n",
      "memory usage: 16.9+ MB\n"
     ]
    }
   ],
   "source": [
    "#basic summary\n",
    "df_transaction.info()"
   ]
  },
  {
   "cell_type": "markdown",
   "id": "4319bfb1",
   "metadata": {},
   "source": [
    "There are no nulls in the columns but product quantity appears to have an outlier which we should investigate further. Let's investigate further the case where 200 packets of chips are bought in one transaction."
   ]
  },
  {
   "cell_type": "markdown",
   "id": "c426d723",
   "metadata": {},
   "source": [
    "#### Filter the dataset to find the outlier"
   ]
  },
  {
   "cell_type": "code",
   "execution_count": 18,
   "id": "1cdbe262",
   "metadata": {},
   "outputs": [
    {
     "data": {
      "text/html": [
       "<div>\n",
       "<style scoped>\n",
       "    .dataframe tbody tr th:only-of-type {\n",
       "        vertical-align: middle;\n",
       "    }\n",
       "\n",
       "    .dataframe tbody tr th {\n",
       "        vertical-align: top;\n",
       "    }\n",
       "\n",
       "    .dataframe thead th {\n",
       "        text-align: right;\n",
       "    }\n",
       "</style>\n",
       "<table border=\"1\" class=\"dataframe\">\n",
       "  <thead>\n",
       "    <tr style=\"text-align: right;\">\n",
       "      <th></th>\n",
       "      <th>DATE</th>\n",
       "      <th>STORE_NBR</th>\n",
       "      <th>LYLTY_CARD_NBR</th>\n",
       "      <th>TXN_ID</th>\n",
       "      <th>PROD_NBR</th>\n",
       "      <th>PROD_NAME</th>\n",
       "      <th>PROD_QTY</th>\n",
       "      <th>TOT_SALES</th>\n",
       "    </tr>\n",
       "  </thead>\n",
       "  <tbody>\n",
       "    <tr>\n",
       "      <th>69762</th>\n",
       "      <td>2018-08-19</td>\n",
       "      <td>226</td>\n",
       "      <td>226000</td>\n",
       "      <td>226201</td>\n",
       "      <td>4</td>\n",
       "      <td>Dorito Corn Chp     Supreme 380g</td>\n",
       "      <td>200</td>\n",
       "      <td>650.0</td>\n",
       "    </tr>\n",
       "    <tr>\n",
       "      <th>69763</th>\n",
       "      <td>2019-05-20</td>\n",
       "      <td>226</td>\n",
       "      <td>226000</td>\n",
       "      <td>226210</td>\n",
       "      <td>4</td>\n",
       "      <td>Dorito Corn Chp     Supreme 380g</td>\n",
       "      <td>200</td>\n",
       "      <td>650.0</td>\n",
       "    </tr>\n",
       "  </tbody>\n",
       "</table>\n",
       "</div>"
      ],
      "text/plain": [
       "            DATE  STORE_NBR  LYLTY_CARD_NBR  TXN_ID  PROD_NBR  \\\n",
       "69762 2018-08-19        226          226000  226201         4   \n",
       "69763 2019-05-20        226          226000  226210         4   \n",
       "\n",
       "                              PROD_NAME  PROD_QTY  TOT_SALES  \n",
       "69762  Dorito Corn Chp     Supreme 380g       200      650.0  \n",
       "69763  Dorito Corn Chp     Supreme 380g       200      650.0  "
      ]
     },
     "execution_count": 18,
     "metadata": {},
     "output_type": "execute_result"
    }
   ],
   "source": [
    "df_transaction[df_transaction['PROD_QTY'] == 200]"
   ]
  },
  {
   "cell_type": "markdown",
   "id": "b81fc205",
   "metadata": {},
   "source": [
    "There are two transactions where 200 packets of chips are bought in one transaction and both of these transactions were by the same customer. Let's see if the customer has had other transactions"
   ]
  },
  {
   "cell_type": "markdown",
   "id": "b8aab857",
   "metadata": {},
   "source": [
    "#### Filter out the customer based on the loyalty card number"
   ]
  },
  {
   "cell_type": "code",
   "execution_count": 19,
   "id": "bcc42d60",
   "metadata": {},
   "outputs": [
    {
     "data": {
      "text/html": [
       "<div>\n",
       "<style scoped>\n",
       "    .dataframe tbody tr th:only-of-type {\n",
       "        vertical-align: middle;\n",
       "    }\n",
       "\n",
       "    .dataframe tbody tr th {\n",
       "        vertical-align: top;\n",
       "    }\n",
       "\n",
       "    .dataframe thead th {\n",
       "        text-align: right;\n",
       "    }\n",
       "</style>\n",
       "<table border=\"1\" class=\"dataframe\">\n",
       "  <thead>\n",
       "    <tr style=\"text-align: right;\">\n",
       "      <th></th>\n",
       "      <th>DATE</th>\n",
       "      <th>STORE_NBR</th>\n",
       "      <th>LYLTY_CARD_NBR</th>\n",
       "      <th>TXN_ID</th>\n",
       "      <th>PROD_NBR</th>\n",
       "      <th>PROD_NAME</th>\n",
       "      <th>PROD_QTY</th>\n",
       "      <th>TOT_SALES</th>\n",
       "    </tr>\n",
       "  </thead>\n",
       "  <tbody>\n",
       "    <tr>\n",
       "      <th>69762</th>\n",
       "      <td>2018-08-19</td>\n",
       "      <td>226</td>\n",
       "      <td>226000</td>\n",
       "      <td>226201</td>\n",
       "      <td>4</td>\n",
       "      <td>Dorito Corn Chp     Supreme 380g</td>\n",
       "      <td>200</td>\n",
       "      <td>650.0</td>\n",
       "    </tr>\n",
       "    <tr>\n",
       "      <th>69763</th>\n",
       "      <td>2019-05-20</td>\n",
       "      <td>226</td>\n",
       "      <td>226000</td>\n",
       "      <td>226210</td>\n",
       "      <td>4</td>\n",
       "      <td>Dorito Corn Chp     Supreme 380g</td>\n",
       "      <td>200</td>\n",
       "      <td>650.0</td>\n",
       "    </tr>\n",
       "  </tbody>\n",
       "</table>\n",
       "</div>"
      ],
      "text/plain": [
       "            DATE  STORE_NBR  LYLTY_CARD_NBR  TXN_ID  PROD_NBR  \\\n",
       "69762 2018-08-19        226          226000  226201         4   \n",
       "69763 2019-05-20        226          226000  226210         4   \n",
       "\n",
       "                              PROD_NAME  PROD_QTY  TOT_SALES  \n",
       "69762  Dorito Corn Chp     Supreme 380g       200      650.0  \n",
       "69763  Dorito Corn Chp     Supreme 380g       200      650.0  "
      ]
     },
     "execution_count": 19,
     "metadata": {},
     "output_type": "execute_result"
    }
   ],
   "source": [
    "df_transaction[df_transaction['LYLTY_CARD_NBR'] == 226000]"
   ]
  },
  {
   "cell_type": "markdown",
   "id": "ffe8962b",
   "metadata": {},
   "source": [
    "It looks like this customer has only had the two transactions over the year and is not an ordinary retail customer. The customer might be buying chips for commercial purposes instead. We'll remove this loyalty card number from further analysis."
   ]
  },
  {
   "cell_type": "code",
   "execution_count": 20,
   "id": "e5bcc4bd",
   "metadata": {},
   "outputs": [],
   "source": [
    "df_transaction = df_transaction[~(df_transaction['LYLTY_CARD_NBR'] == 226000)]"
   ]
  },
  {
   "cell_type": "markdown",
   "id": "9b030f52",
   "metadata": {},
   "source": [
    "let's look at the number of transaction lines over time to see if there are any obvious data issues such as missing data."
   ]
  },
  {
   "cell_type": "markdown",
   "id": "91ec00c3",
   "metadata": {},
   "source": [
    "#### Count the number of transactions by date"
   ]
  },
  {
   "cell_type": "code",
   "execution_count": 21,
   "id": "69200fbb",
   "metadata": {},
   "outputs": [],
   "source": [
    "transaction_date = df_transaction.groupby('DATE').size().reset_index(name='transaction_count')"
   ]
  },
  {
   "cell_type": "markdown",
   "id": "00f5355a",
   "metadata": {},
   "source": [
    "There's only 364 rows, meaning only 364 dates which indicates a missing date. Let's create a sequence of dates from 1 Jul 2018 to 30 Jun 2019 and use this to create a chart of number of transactions over time to find the missing date."
   ]
  },
  {
   "cell_type": "markdown",
   "id": "f115a79a",
   "metadata": {},
   "source": [
    "#### Create a sequence of dates and join this the count of transactions by date\n",
    "create a column of dates that includes every day from 1 Jul 2018 to 30 Jun 2019, and join it onto the data to fill in the missing day."
   ]
  },
  {
   "cell_type": "code",
   "execution_count": 22,
   "id": "9d329aa4",
   "metadata": {},
   "outputs": [],
   "source": [
    "all_date = pd.DataFrame({'DATE': pd.date_range(start='2018-07-01', end='2019-06-30', freq='D')})\n",
    "\n",
    "transaction_date = pd.merge(transaction_date, all_date, on='DATE', how='outer')\n",
    "transaction_date.fillna(0, inplace=True)\n",
    "transaction_date = transaction_date.sort_values(by='DATE')"
   ]
  },
  {
   "cell_type": "markdown",
   "id": "c60735d5",
   "metadata": {},
   "source": [
    "#### Plot transactions over time"
   ]
  },
  {
   "cell_type": "code",
   "execution_count": 33,
   "id": "ee129fb1",
   "metadata": {},
   "outputs": [
    {
     "data": {
      "image/png": "[encoded data removed]",
      "text/plain": [
       "<Figure size 1080x432 with 1 Axes>"
      ]
     },
     "metadata": {
      "needs_background": "light"
     },
     "output_type": "display_data"
    }
   ],
   "source": [
    "plt.figure(figsize=(15, 6))\n",
    "plt.plot(transaction_date['DATE'], transaction_date['transaction_count'], marker='o')\n",
    "plt.xlabel('Date', fontsize=15)\n",
    "plt.ylabel('Transaction Count', fontsize=15)\n",
    "plt.title('Over all Transactions over time', fontsize=20)\n",
    "plt.xticks(rotation=45)\n",
    "plt.grid(True)\n",
    "plt.tight_layout()\n",
    "\n",
    "# Display the plot\n",
    "plt.show()"
   ]
  },
  {
   "cell_type": "markdown",
   "id": "63b4c9f4",
   "metadata": {},
   "source": [
    "We can see that there is an increase in purchases in December and a break in late December. Let's zoom in on this.\n",
    "#### Filter to December and look at individual days"
   ]
  },
  {
   "cell_type": "code",
   "execution_count": 26,
   "id": "41c77193",
   "metadata": {},
   "outputs": [
    {
     "data": {
      "image/png": "[encoded data removed]",
      "text/plain": [
       "<Figure size 720x432 with 1 Axes>"
      ]
     },
     "metadata": {
      "needs_background": "light"
     },
     "output_type": "display_data"
    }
   ],
   "source": [
    "december_data = transaction_date[transaction_date['DATE'].dt.month == 12]\n",
    "\n",
    "plt.figure(figsize=(10, 6))\n",
    "plt.plot(december_data['DATE'], december_data['transaction_count'], marker='o')\n",
    "plt.xlabel('Date',fontsize=15)\n",
    "plt.ylabel('Transaction Count',fontsize=15)\n",
    "plt.title('Transaction of December 2018',fontsize=20)\n",
    "plt.xticks(rotation=45)\n",
    "plt.grid(True)\n",
    "plt.tight_layout()\n",
    "\n",
    "# Display the plot\n",
    "plt.show()"
   ]
  },
  {
   "cell_type": "markdown",
   "id": "ab10fc93",
   "metadata": {},
   "source": [
    "We can see that the increase in sales occurs in the lead-up to Christmas and that there are zero sales on Christmas day itself. This is due to shops being closed on Christmas day.\n",
    "Now that we are satisfied that the data no longer has outliers, we can move on tocreating other features such as brand of chips or pack size from PROD_NAME. We will start with pack size."
   ]
  },
  {
   "cell_type": "markdown",
   "id": "2b0c4e93",
   "metadata": {},
   "source": [
    "#### Pack size\n",
    "The largest size is 380g and the smallest size is 70g - seems sensible!"
   ]
  },
  {
   "cell_type": "code",
   "execution_count": 35,
   "id": "8026989e",
   "metadata": {},
   "outputs": [],
   "source": [
    "df_transaction['PACK_SIZE'] = df_transaction['PROD_NAME'].str.extract(r'(\\d+)').astype(int)"
   ]
  },
  {
   "cell_type": "code",
   "execution_count": 36,
   "id": "9f12b273",
   "metadata": {},
   "outputs": [
    {
     "data": {
      "text/plain": [
       "175    66390\n",
       "150    40203\n",
       "134    25102\n",
       "110    22387\n",
       "170    19983\n",
       "165    15297\n",
       "330    12540\n",
       "380     6416\n",
       "270     6285\n",
       "210     6272\n",
       "200     4473\n",
       "135     3257\n",
       "250     3169\n",
       "90      3008\n",
       "190     2995\n",
       "160     2970\n",
       "220     1564\n",
       "70      1507\n",
       "180     1468\n",
       "125     1454\n",
       "Name: PACK_SIZE, dtype: int64"
      ]
     },
     "execution_count": 36,
     "metadata": {},
     "output_type": "execute_result"
    }
   ],
   "source": [
    "value_count = df_transaction['PACK_SIZE'].value_counts()\n",
    "value_count"
   ]
  },
  {
   "cell_type": "markdown",
   "id": "0d58a06e",
   "metadata": {},
   "source": [
    "#### Let's plot a histogram of PACK_SIZE \n",
    "since we know that it is a categorical variable and not a continuous variable even though it is numeric."
   ]
  },
  {
   "cell_type": "code",
   "execution_count": 37,
   "id": "e7ba013c",
   "metadata": {},
   "outputs": [
    {
     "data": {
      "image/png": "[encoded data removed]",
      "text/plain": [
       "<Figure size 720x432 with 1 Axes>"
      ]
     },
     "metadata": {
      "needs_background": "light"
     },
     "output_type": "display_data"
    }
   ],
   "source": [
    "plt.figure(figsize=(10, 6))\n",
    "plt.hist(value_count.index, bins=20, edgecolor='black', weights=value_count.values)\n",
    "plt.xlabel('Pack Size', fontsize=15)\n",
    "plt.ylabel('Transaction Count', fontsize=15)\n",
    "plt.title('Transaction Count by Pack size', fontsize=20)\n",
    "plt.xticks(rotation=45)\n",
    "plt.grid(True)\n",
    "plt.tight_layout()\n",
    "\n",
    "# Display the plot\n",
    "plt.show()"
   ]
  },
  {
   "cell_type": "markdown",
   "id": "bf06c4dc",
   "metadata": {},
   "source": [
    "#### Brands\n",
    "Create a column which contains the brand of the product, by extracting it from the product name."
   ]
  },
  {
   "cell_type": "code",
   "execution_count": 38,
   "id": "4dbc4673",
   "metadata": {},
   "outputs": [],
   "source": [
    "df_transaction['BRAND'] = df_transaction['PROD_NAME'].str.split().str[0]"
   ]
  },
  {
   "cell_type": "code",
   "execution_count": 39,
   "id": "218a6946",
   "metadata": {},
   "outputs": [
    {
     "data": {
      "text/html": [
       "<div>\n",
       "<style scoped>\n",
       "    .dataframe tbody tr th:only-of-type {\n",
       "        vertical-align: middle;\n",
       "    }\n",
       "\n",
       "    .dataframe tbody tr th {\n",
       "        vertical-align: top;\n",
       "    }\n",
       "\n",
       "    .dataframe thead th {\n",
       "        text-align: right;\n",
       "    }\n",
       "</style>\n",
       "<table border=\"1\" class=\"dataframe\">\n",
       "  <thead>\n",
       "    <tr style=\"text-align: right;\">\n",
       "      <th></th>\n",
       "      <th>DATE</th>\n",
       "      <th>STORE_NBR</th>\n",
       "      <th>LYLTY_CARD_NBR</th>\n",
       "      <th>TXN_ID</th>\n",
       "      <th>PROD_NBR</th>\n",
       "      <th>PROD_NAME</th>\n",
       "      <th>PROD_QTY</th>\n",
       "      <th>TOT_SALES</th>\n",
       "      <th>PACK_SIZE</th>\n",
       "      <th>BRAND</th>\n",
       "    </tr>\n",
       "  </thead>\n",
       "  <tbody>\n",
       "    <tr>\n",
       "      <th>0</th>\n",
       "      <td>2018-10-17</td>\n",
       "      <td>1</td>\n",
       "      <td>1000</td>\n",
       "      <td>1</td>\n",
       "      <td>5</td>\n",
       "      <td>Natural Chip        Compny SeaSalt175g</td>\n",
       "      <td>2</td>\n",
       "      <td>6.0</td>\n",
       "      <td>175</td>\n",
       "      <td>Natural</td>\n",
       "    </tr>\n",
       "    <tr>\n",
       "      <th>1</th>\n",
       "      <td>2019-05-14</td>\n",
       "      <td>1</td>\n",
       "      <td>1307</td>\n",
       "      <td>348</td>\n",
       "      <td>66</td>\n",
       "      <td>CCs Nacho Cheese    175g</td>\n",
       "      <td>3</td>\n",
       "      <td>6.3</td>\n",
       "      <td>175</td>\n",
       "      <td>CCs</td>\n",
       "    </tr>\n",
       "    <tr>\n",
       "      <th>2</th>\n",
       "      <td>2019-05-20</td>\n",
       "      <td>1</td>\n",
       "      <td>1343</td>\n",
       "      <td>383</td>\n",
       "      <td>61</td>\n",
       "      <td>Smiths Crinkle Cut  Chips Chicken 170g</td>\n",
       "      <td>2</td>\n",
       "      <td>2.9</td>\n",
       "      <td>170</td>\n",
       "      <td>Smiths</td>\n",
       "    </tr>\n",
       "    <tr>\n",
       "      <th>3</th>\n",
       "      <td>2018-08-17</td>\n",
       "      <td>2</td>\n",
       "      <td>2373</td>\n",
       "      <td>974</td>\n",
       "      <td>69</td>\n",
       "      <td>Smiths Chip Thinly  S/Cream&amp;Onion 175g</td>\n",
       "      <td>5</td>\n",
       "      <td>15.0</td>\n",
       "      <td>175</td>\n",
       "      <td>Smiths</td>\n",
       "    </tr>\n",
       "    <tr>\n",
       "      <th>4</th>\n",
       "      <td>2018-08-18</td>\n",
       "      <td>2</td>\n",
       "      <td>2426</td>\n",
       "      <td>1038</td>\n",
       "      <td>108</td>\n",
       "      <td>Kettle Tortilla ChpsHny&amp;Jlpno Chili 150g</td>\n",
       "      <td>3</td>\n",
       "      <td>13.8</td>\n",
       "      <td>150</td>\n",
       "      <td>Kettle</td>\n",
       "    </tr>\n",
       "  </tbody>\n",
       "</table>\n",
       "</div>"
      ],
      "text/plain": [
       "        DATE  STORE_NBR  LYLTY_CARD_NBR  TXN_ID  PROD_NBR  \\\n",
       "0 2018-10-17          1            1000       1         5   \n",
       "1 2019-05-14          1            1307     348        66   \n",
       "2 2019-05-20          1            1343     383        61   \n",
       "3 2018-08-17          2            2373     974        69   \n",
       "4 2018-08-18          2            2426    1038       108   \n",
       "\n",
       "                                  PROD_NAME  PROD_QTY  TOT_SALES  PACK_SIZE  \\\n",
       "0    Natural Chip        Compny SeaSalt175g         2        6.0        175   \n",
       "1                  CCs Nacho Cheese    175g         3        6.3        175   \n",
       "2    Smiths Crinkle Cut  Chips Chicken 170g         2        2.9        170   \n",
       "3    Smiths Chip Thinly  S/Cream&Onion 175g         5       15.0        175   \n",
       "4  Kettle Tortilla ChpsHny&Jlpno Chili 150g         3       13.8        150   \n",
       "\n",
       "     BRAND  \n",
       "0  Natural  \n",
       "1      CCs  \n",
       "2   Smiths  \n",
       "3   Smiths  \n",
       "4   Kettle  "
      ]
     },
     "execution_count": 39,
     "metadata": {},
     "output_type": "execute_result"
    }
   ],
   "source": [
    "df_transaction.head()"
   ]
  },
  {
   "cell_type": "code",
   "execution_count": 40,
   "id": "9add58f1",
   "metadata": {},
   "outputs": [
    {
     "data": {
      "text/plain": [
       "array(['Natural', 'CCs', 'Smiths', 'Kettle', 'Grain', 'Doritos',\n",
       "       'Twisties', 'WW', 'Thins', 'Burger', 'NCC', 'Cheezels', 'Infzns',\n",
       "       'Red', 'Pringles', 'Dorito', 'Infuzions', 'Smith', 'GrnWves',\n",
       "       'Tyrrells', 'Cobs', 'French', 'RRD', 'Tostitos', 'Cheetos',\n",
       "       'Woolworths', 'Snbts', 'Sunbites'], dtype=object)"
      ]
     },
     "execution_count": 40,
     "metadata": {},
     "output_type": "execute_result"
    }
   ],
   "source": [
    "df_transaction['BRAND'].unique()"
   ]
  },
  {
   "cell_type": "markdown",
   "id": "2b25db0b",
   "metadata": {},
   "source": [
    "Some of the brand names look like they are of the same brands - such as RED and RRD, which are both Red Rock Deli chips. Let's combine these together."
   ]
  },
  {
   "cell_type": "code",
   "execution_count": 41,
   "id": "119ece64",
   "metadata": {},
   "outputs": [
    {
     "data": {
      "text/plain": [
       "array(['NCC', 'CCs', 'Smith', 'Kettle', 'GrnWves', 'Doritos', 'Twisties',\n",
       "       'WW', 'Thins', 'Burger', 'Cheezels', 'Infuzions', 'RRD',\n",
       "       'Pringles', 'Tyrrells', 'Cobs', 'French', 'Tostitos', 'Cheetos',\n",
       "       'Sunbites'], dtype=object)"
      ]
     },
     "execution_count": 41,
     "metadata": {},
     "output_type": "execute_result"
    }
   ],
   "source": [
    "replace_dict = {'Natural':'NCC', 'Woolworths':'WW', 'Infzns':'Infuzions', 'Snbts':'Sunbites', 'Red':'RRD', 'Smiths':'Smith', 'Dorito':'Doritos','Grain':'GrnWves'}\n",
    "df_transaction['BRAND'] = df_transaction['BRAND'].replace(replace_dict)\n",
    "df_transaction['BRAND'].unique()"
   ]
  },
  {
   "cell_type": "code",
   "execution_count": 44,
   "id": "143fae8c",
   "metadata": {},
   "outputs": [],
   "source": [
    "brand = df_transaction.groupby('BRAND').size().sort_values(ascending=False)"
   ]
  },
  {
   "cell_type": "code",
   "execution_count": 54,
   "id": "336971e4",
   "metadata": {},
   "outputs": [
    {
     "data": {
      "text/plain": [
       "Index(['Kettle', 'Smith', 'Doritos', 'Pringles', 'RRD', 'Infuzions', 'Thins',\n",
       "       'WW', 'Cobs', 'Tostitos', 'Twisties', 'GrnWves', 'NCC', 'Tyrrells',\n",
       "       'Cheezels', 'CCs', 'Sunbites', 'Cheetos', 'Burger', 'French'],\n",
       "      dtype='object', name='BRAND')"
      ]
     },
     "execution_count": 54,
     "metadata": {},
     "output_type": "execute_result"
    }
   ],
   "source": [
    "brand.index"
   ]
  },
  {
   "cell_type": "code",
   "execution_count": 43,
   "id": "bddd4386",
   "metadata": {},
   "outputs": [
    {
     "data": {
      "text/plain": [
       "0"
      ]
     },
     "execution_count": 43,
     "metadata": {},
     "output_type": "execute_result"
    }
   ],
   "source": [
    "df_transaction.isnull().sum().sum()"
   ]
  },
  {
   "cell_type": "code",
   "execution_count": 67,
   "id": "ea2f1ac3",
   "metadata": {},
   "outputs": [
    {
     "data": {
      "image/png": "[encoded data removed]",
      "text/plain": [
       "<Figure size 720x432 with 1 Axes>"
      ]
     },
     "metadata": {
      "needs_background": "light"
     },
     "output_type": "display_data"
    }
   ],
   "source": [
    "brand.plot(kind='bar', figsize=(10, 6))\n",
    "plt.title('Sales by Brand', fontsize=20)\n",
    "plt.xlabel('Brand name', fontsize=15)\n",
    "plt.ylabel('Sales by pack count', fontsize=15)\n",
    "plt.show()"
   ]
  },
  {
   "cell_type": "markdown",
   "id": "4fe36b49",
   "metadata": {},
   "source": [
    "#### Merge transaction data to customer data"
   ]
  },
  {
   "cell_type": "code",
   "execution_count": 68,
   "id": "ed72f15b",
   "metadata": {},
   "outputs": [],
   "source": [
    "data = pd.merge(df_transaction, df_purchase, how='left')"
   ]
  },
  {
   "cell_type": "markdown",
   "id": "a6015e01",
   "metadata": {},
   "source": [
    "As the number of rows in **data** is the same as that of **df_transaction**, we can be sure that no duplicates were created. This is because we created **data** by setting **how='inner'** (in other words, a left join) which means take all the rows in **df_transaction** and find rows with matching values in shared columns and then joining the details in these rows to the **LYLTY_CARD_NBR** or the first mentioned table."
   ]
  },
  {
   "cell_type": "markdown",
   "id": "9bd03c1e",
   "metadata": {},
   "source": [
    "Let's also check if some customers were not matched on by checking for nulls."
   ]
  },
  {
   "cell_type": "code",
   "execution_count": 69,
   "id": "62bc31e8",
   "metadata": {},
   "outputs": [
    {
     "data": {
      "text/plain": [
       "0"
      ]
     },
     "execution_count": 69,
     "metadata": {},
     "output_type": "execute_result"
    }
   ],
   "source": [
    "data.isnull().sum().sum()"
   ]
  },
  {
   "cell_type": "markdown",
   "id": "68cc89e9",
   "metadata": {},
   "source": [
    "Great, there are no nulls! So all our customers in the transaction data has been accounted for in the customer dataset."
   ]
  },
  {
   "cell_type": "code",
   "execution_count": 70,
   "id": "0d67e7bb",
   "metadata": {},
   "outputs": [
    {
     "data": {
      "text/html": [
       "<div>\n",
       "<style scoped>\n",
       "    .dataframe tbody tr th:only-of-type {\n",
       "        vertical-align: middle;\n",
       "    }\n",
       "\n",
       "    .dataframe tbody tr th {\n",
       "        vertical-align: top;\n",
       "    }\n",
       "\n",
       "    .dataframe thead th {\n",
       "        text-align: right;\n",
       "    }\n",
       "</style>\n",
       "<table border=\"1\" class=\"dataframe\">\n",
       "  <thead>\n",
       "    <tr style=\"text-align: right;\">\n",
       "      <th></th>\n",
       "      <th>DATE</th>\n",
       "      <th>STORE_NBR</th>\n",
       "      <th>LYLTY_CARD_NBR</th>\n",
       "      <th>TXN_ID</th>\n",
       "      <th>PROD_NBR</th>\n",
       "      <th>PROD_NAME</th>\n",
       "      <th>PROD_QTY</th>\n",
       "      <th>TOT_SALES</th>\n",
       "      <th>PACK_SIZE</th>\n",
       "      <th>BRAND</th>\n",
       "      <th>LIFESTAGE</th>\n",
       "      <th>PREMIUM_CUSTOMER</th>\n",
       "    </tr>\n",
       "  </thead>\n",
       "  <tbody>\n",
       "    <tr>\n",
       "      <th>0</th>\n",
       "      <td>2018-10-17</td>\n",
       "      <td>1</td>\n",
       "      <td>1000</td>\n",
       "      <td>1</td>\n",
       "      <td>5</td>\n",
       "      <td>Natural Chip        Compny SeaSalt175g</td>\n",
       "      <td>2</td>\n",
       "      <td>6.0</td>\n",
       "      <td>175</td>\n",
       "      <td>NCC</td>\n",
       "      <td>YOUNG SINGLES/COUPLES</td>\n",
       "      <td>Premium</td>\n",
       "    </tr>\n",
       "    <tr>\n",
       "      <th>1</th>\n",
       "      <td>2019-05-14</td>\n",
       "      <td>1</td>\n",
       "      <td>1307</td>\n",
       "      <td>348</td>\n",
       "      <td>66</td>\n",
       "      <td>CCs Nacho Cheese    175g</td>\n",
       "      <td>3</td>\n",
       "      <td>6.3</td>\n",
       "      <td>175</td>\n",
       "      <td>CCs</td>\n",
       "      <td>MIDAGE SINGLES/COUPLES</td>\n",
       "      <td>Budget</td>\n",
       "    </tr>\n",
       "    <tr>\n",
       "      <th>2</th>\n",
       "      <td>2019-05-20</td>\n",
       "      <td>1</td>\n",
       "      <td>1343</td>\n",
       "      <td>383</td>\n",
       "      <td>61</td>\n",
       "      <td>Smiths Crinkle Cut  Chips Chicken 170g</td>\n",
       "      <td>2</td>\n",
       "      <td>2.9</td>\n",
       "      <td>170</td>\n",
       "      <td>Smith</td>\n",
       "      <td>MIDAGE SINGLES/COUPLES</td>\n",
       "      <td>Budget</td>\n",
       "    </tr>\n",
       "    <tr>\n",
       "      <th>3</th>\n",
       "      <td>2018-08-17</td>\n",
       "      <td>2</td>\n",
       "      <td>2373</td>\n",
       "      <td>974</td>\n",
       "      <td>69</td>\n",
       "      <td>Smiths Chip Thinly  S/Cream&amp;Onion 175g</td>\n",
       "      <td>5</td>\n",
       "      <td>15.0</td>\n",
       "      <td>175</td>\n",
       "      <td>Smith</td>\n",
       "      <td>MIDAGE SINGLES/COUPLES</td>\n",
       "      <td>Budget</td>\n",
       "    </tr>\n",
       "    <tr>\n",
       "      <th>4</th>\n",
       "      <td>2018-08-18</td>\n",
       "      <td>2</td>\n",
       "      <td>2426</td>\n",
       "      <td>1038</td>\n",
       "      <td>108</td>\n",
       "      <td>Kettle Tortilla ChpsHny&amp;Jlpno Chili 150g</td>\n",
       "      <td>3</td>\n",
       "      <td>13.8</td>\n",
       "      <td>150</td>\n",
       "      <td>Kettle</td>\n",
       "      <td>MIDAGE SINGLES/COUPLES</td>\n",
       "      <td>Budget</td>\n",
       "    </tr>\n",
       "  </tbody>\n",
       "</table>\n",
       "</div>"
      ],
      "text/plain": [
       "        DATE  STORE_NBR  LYLTY_CARD_NBR  TXN_ID  PROD_NBR  \\\n",
       "0 2018-10-17          1            1000       1         5   \n",
       "1 2019-05-14          1            1307     348        66   \n",
       "2 2019-05-20          1            1343     383        61   \n",
       "3 2018-08-17          2            2373     974        69   \n",
       "4 2018-08-18          2            2426    1038       108   \n",
       "\n",
       "                                  PROD_NAME  PROD_QTY  TOT_SALES  PACK_SIZE  \\\n",
       "0    Natural Chip        Compny SeaSalt175g         2        6.0        175   \n",
       "1                  CCs Nacho Cheese    175g         3        6.3        175   \n",
       "2    Smiths Crinkle Cut  Chips Chicken 170g         2        2.9        170   \n",
       "3    Smiths Chip Thinly  S/Cream&Onion 175g         5       15.0        175   \n",
       "4  Kettle Tortilla ChpsHny&Jlpno Chili 150g         3       13.8        150   \n",
       "\n",
       "    BRAND               LIFESTAGE PREMIUM_CUSTOMER  \n",
       "0     NCC   YOUNG SINGLES/COUPLES          Premium  \n",
       "1     CCs  MIDAGE SINGLES/COUPLES           Budget  \n",
       "2   Smith  MIDAGE SINGLES/COUPLES           Budget  \n",
       "3   Smith  MIDAGE SINGLES/COUPLES           Budget  \n",
       "4  Kettle  MIDAGE SINGLES/COUPLES           Budget  "
      ]
     },
     "execution_count": 70,
     "metadata": {},
     "output_type": "execute_result"
    }
   ],
   "source": [
    "data.head()"
   ]
  },
  {
   "cell_type": "markdown",
   "id": "d37f7dac",
   "metadata": {},
   "source": [
    "#### Save the clean data as 'QVI_data.csv'"
   ]
  },
  {
   "cell_type": "code",
   "execution_count": 37,
   "id": "8c45cee8",
   "metadata": {},
   "outputs": [],
   "source": [
    "data.to_csv('QVI_data.csv', index=False)"
   ]
  },
  {
   "cell_type": "markdown",
   "id": "163e84c7",
   "metadata": {},
   "source": [
    "Data exploration is now complete!\n",
    "## Data analysis on customer segments\n",
    "Now that the data is ready for analysis, we can define some metrics of interest to the client:\n",
    "- Who spends the most on chips (total sales), describing customers by lifestage and\n",
    "how premium their general purchasing behaviour is\n",
    "- How many customers are in each segment\n",
    "- How many chips are bought per customer by segment\n",
    "- What's the average chip price by customer segment"
   ]
  },
  {
   "cell_type": "markdown",
   "id": "330c531d",
   "metadata": {},
   "source": [
    "We could also ask our data team for more information. Examples are:\n",
    "- The customer's total spend over the period and total spend for each transaction to understand what proportion of their grocery spend is on chips\n",
    "- Proportion of customers in each customer segment overall to compare against the mix of customers who purchase chips\n",
    "Let's start with calculating total sales by LIFESTAGE and PREMIUM_CUSTOMER and\n",
    "plotting the split by these segments to describe which customer segment contribute\n",
    "most to chip sales."
   ]
  },
  {
   "cell_type": "markdown",
   "id": "e2bb7b66",
   "metadata": {},
   "source": [
    "#### Total sales by LIFESTAGE and PREMIUM_CUSTOMER"
   ]
  },
  {
   "cell_type": "code",
   "execution_count": 72,
   "id": "e122f79f",
   "metadata": {},
   "outputs": [
    {
     "data": {
      "image/png": "[encoded data removed]",
      "text/plain": [
       "<Figure size 720x432 with 2 Axes>"
      ]
     },
     "metadata": {
      "needs_background": "light"
     },
     "output_type": "display_data"
    }
   ],
   "source": [
    "#summaries sale data\n",
    "sales = data.groupby(by=['LIFESTAGE','PREMIUM_CUSTOMER'])['TOT_SALES'].sum() \\\n",
    "        .reset_index() \\\n",
    "        .rename(columns={'TOT_SALES': 'SALE'}) \\\n",
    "        .sort_values(by='SALE', ascending=False)\n",
    "\n",
    "\n",
    "# Pivot the data for plotting\n",
    "pivot_sales = sales.pivot(index='LIFESTAGE', columns='PREMIUM_CUSTOMER', values='SALE')\n",
    "\n",
    "\n",
    "# Create plot\n",
    "plt.figure(figsize=(10, 6))\n",
    "sns.heatmap(pivot_sales.T, annot=True, fmt=\".1f\", cmap='viridis')\n",
    "\n",
    "# Set labels and title\n",
    "plt.xlabel('Premium customer flag', fontsize=14)\n",
    "plt.ylabel('Lifestage', fontsize=15)\n",
    "plt.title('Sales by affluence(customer type)', fontsize=20)\n",
    "\n",
    "# Rotate x-axis tick labels by 90 degrees\n",
    "plt.xticks(rotation=90)\n",
    "\n",
    "# Display the plot\n",
    "plt.tight_layout()\n",
    "plt.show()"
   ]
  },
  {
   "cell_type": "markdown",
   "id": "9f8e0c7a",
   "metadata": {},
   "source": [
    "Sales are coming mainly from **Budget - older families, Mainstream - young singles/couples**, and **Mainstream - retirees**"
   ]
  },
  {
   "cell_type": "markdown",
   "id": "8650afaa",
   "metadata": {},
   "source": [
    "Let's see if the higher sales are due to there being more customers who buy chips.\n",
    "#### Number of customers by LIFESTAGE and PREMIUM_CUSTOMER"
   ]
  },
  {
   "cell_type": "code",
   "execution_count": 80,
   "id": "903aaf97",
   "metadata": {},
   "outputs": [
    {
     "data": {
      "image/png": "[encoded data removed]",
      "text/plain": [
       "<Figure size 720x432 with 2 Axes>"
      ]
     },
     "metadata": {
      "needs_background": "light"
     },
     "output_type": "display_data"
    }
   ],
   "source": [
    "# Grouping and summarizing customer data\n",
    "customers = data.groupby(['LIFESTAGE', 'PREMIUM_CUSTOMER'])['LYLTY_CARD_NBR'].nunique() \\\n",
    "                .reset_index() \\\n",
    "                .rename(columns={'LYLTY_CARD_NBR': 'CUSTOMERS'}) \\\n",
    "                .sort_values(by='CUSTOMERS', ascending=False)\n",
    "\n",
    "# Pivot the data for plotting\n",
    "pivot_customers = customers.pivot(index='LIFESTAGE', columns='PREMIUM_CUSTOMER', values='CUSTOMERS')\n",
    "\n",
    "\n",
    "# Create the plot using Seaborn's heatmap\n",
    "plt.figure(figsize=(10, 6))\n",
    "sns.heatmap(pivot_customers.T, annot=True, fmt=\".1f\", cmap='viridis')\n",
    "\n",
    "# Set labels and title\n",
    "plt.xlabel('Premium customer flag', fontsize=15)\n",
    "plt.ylabel('Lifestage', fontsize=15)\n",
    "plt.title('Customers by affluence(customer type)', fontsize=20)\n",
    "\n",
    "# Rotate x-axis tick labels by 90 degrees\n",
    "plt.xticks(rotation=90)\n",
    "\n",
    "# Display the plot\n",
    "plt.tight_layout()\n",
    "plt.show()"
   ]
  },
  {
   "cell_type": "markdown",
   "id": "2fe66ee0",
   "metadata": {},
   "source": [
    "There are more Mainstream - young singles/couples and Mainstream - retirees who buy chips. This contributes to there being more sales to these customer segments but this is not a major driver for the Budget - Older families segment. Higher sales may also be driven by more units of chips being bought per customer. Let's have a look at this next."
   ]
  },
  {
   "cell_type": "markdown",
   "id": "e276c770",
   "metadata": {},
   "source": [
    "#### Average number of units per customer by LIFESTAGE and PREMIUM_CUSTOMER"
   ]
  },
  {
   "cell_type": "code",
   "execution_count": 74,
   "id": "a3732394",
   "metadata": {},
   "outputs": [
    {
     "name": "stdout",
     "output_type": "stream",
     "text": [
      "                 LIFESTAGE PREMIUM_CUSTOMER       AVG\n",
      "7           OLDER FAMILIES       Mainstream  9.255380\n",
      "6           OLDER FAMILIES           Budget  9.076773\n",
      "8           OLDER FAMILIES          Premium  9.071717\n",
      "15          YOUNG FAMILIES           Budget  8.722995\n",
      "17          YOUNG FAMILIES          Premium  8.716013\n",
      "16          YOUNG FAMILIES       Mainstream  8.638361\n",
      "9    OLDER SINGLES/COUPLES           Budget  6.781398\n",
      "11   OLDER SINGLES/COUPLES          Premium  6.769543\n",
      "10   OLDER SINGLES/COUPLES       Mainstream  6.712021\n",
      "1   MIDAGE SINGLES/COUPLES       Mainstream  6.432080\n",
      "12                RETIREES           Budget  6.141847\n",
      "14                RETIREES          Premium  6.103358\n",
      "2   MIDAGE SINGLES/COUPLES          Premium  6.078514\n",
      "0   MIDAGE SINGLES/COUPLES           Budget  6.026459\n",
      "13                RETIREES       Mainstream  5.925920\n",
      "4             NEW FAMILIES       Mainstream  4.891566\n",
      "3             NEW FAMILIES           Budget  4.821527\n",
      "5             NEW FAMILIES          Premium  4.815652\n",
      "19   YOUNG SINGLES/COUPLES       Mainstream  4.575597\n",
      "20   YOUNG SINGLES/COUPLES          Premium  4.264113\n",
      "18   YOUNG SINGLES/COUPLES           Budget  4.250069\n"
     ]
    }
   ],
   "source": [
    "# Grouping and calculating the average units purchased per customer\n",
    "avg_units = data.groupby(['LIFESTAGE', 'PREMIUM_CUSTOMER']) \\\n",
    "                .apply(lambda x: (x['PROD_QTY'].sum() / x['LYLTY_CARD_NBR'].nunique())) \\\n",
    "                .reset_index(name='AVG') \\\n",
    "                .sort_values(by='AVG', ascending=False)\n",
    "\n",
    "print(avg_units)"
   ]
  },
  {
   "cell_type": "code",
   "execution_count": 75,
   "id": "858895da",
   "metadata": {},
   "outputs": [
    {
     "name": "stderr",
     "output_type": "stream",
     "text": [
      "/Users/hudaquazi/opt/anaconda3/lib/python3.9/site-packages/seaborn/categorical.py:381: DeprecationWarning: distutils Version classes are deprecated. Use packaging.version instead.\n",
      "  if LooseVersion(mpl.__version__) < \"3.0\":\n",
      "/Users/hudaquazi/opt/anaconda3/lib/python3.9/site-packages/setuptools/_distutils/version.py:351: DeprecationWarning: distutils Version classes are deprecated. Use packaging.version instead.\n",
      "  other = LooseVersion(other)\n"
     ]
    },
    {
     "data": {
      "image/png": "[encoded data removed]",
      "text/plain": [
       "<Figure size 720x432 with 1 Axes>"
      ]
     },
     "metadata": {
      "needs_background": "light"
     },
     "output_type": "display_data"
    }
   ],
   "source": [
    "# Create the plot using Seaborn's barplot\n",
    "plt.figure(figsize=(10, 6))\n",
    "sns.barplot(data=avg_units, x='LIFESTAGE', y='AVG', hue='PREMIUM_CUSTOMER', dodge=True)\n",
    "\n",
    "# Set labels and title\n",
    "plt.xlabel('Lifestage', fontsize=15)\n",
    "plt.ylabel('Avg units per transaction', fontsize=15)\n",
    "plt.title('Units per customer', fontsize=20)\n",
    "\n",
    "# Rotate x-axis tick labels by 90 degrees\n",
    "plt.xticks(rotation=90)\n",
    "\n",
    "# Display the legend\n",
    "plt.legend(title='Premium customer flag')\n",
    "\n",
    "# Display the plot\n",
    "plt.tight_layout()\n",
    "plt.show()"
   ]
  },
  {
   "cell_type": "markdown",
   "id": "a077ffec",
   "metadata": {},
   "source": [
    "Older families and young families in general buy more chips per customer"
   ]
  },
  {
   "cell_type": "markdown",
   "id": "0b9e6cbd",
   "metadata": {},
   "source": [
    "#### Average price per unit by LIFESTAGE and PREMIUM_CUSTOMER"
   ]
  },
  {
   "cell_type": "code",
   "execution_count": 77,
   "id": "93e7d33e",
   "metadata": {},
   "outputs": [
    {
     "name": "stdout",
     "output_type": "stream",
     "text": [
      "                 LIFESTAGE PREMIUM_CUSTOMER       AVG\n",
      "19   YOUNG SINGLES/COUPLES       Mainstream  4.074043\n",
      "1   MIDAGE SINGLES/COUPLES       Mainstream  3.994449\n",
      "4             NEW FAMILIES       Mainstream  3.935887\n",
      "12                RETIREES           Budget  3.932731\n",
      "3             NEW FAMILIES           Budget  3.931969\n",
      "14                RETIREES          Premium  3.924037\n",
      "11   OLDER SINGLES/COUPLES          Premium  3.897698\n",
      "9    OLDER SINGLES/COUPLES           Budget  3.887529\n",
      "5             NEW FAMILIES          Premium  3.886168\n",
      "13                RETIREES       Mainstream  3.852986\n",
      "10   OLDER SINGLES/COUPLES       Mainstream  3.822753\n",
      "2   MIDAGE SINGLES/COUPLES          Premium  3.780823\n",
      "15          YOUNG FAMILIES           Budget  3.761903\n",
      "17          YOUNG FAMILIES          Premium  3.759232\n",
      "0   MIDAGE SINGLES/COUPLES           Budget  3.753878\n",
      "6           OLDER FAMILIES           Budget  3.747969\n",
      "7           OLDER FAMILIES       Mainstream  3.736380\n",
      "16          YOUNG FAMILIES       Mainstream  3.722439\n",
      "8           OLDER FAMILIES          Premium  3.717703\n",
      "20   YOUNG SINGLES/COUPLES          Premium  3.692889\n",
      "18   YOUNG SINGLES/COUPLES           Budget  3.685297\n"
     ]
    }
   ],
   "source": [
    "# Grouping and calculating the average units purchased per customer\n",
    "avg_price = data.groupby(['LIFESTAGE', 'PREMIUM_CUSTOMER']) \\\n",
    "                .apply(lambda x: (x['TOT_SALES'].sum() / x['PROD_QTY'].sum())) \\\n",
    "                .reset_index(name='AVG') \\\n",
    "                .sort_values(by='AVG', ascending=False)\n",
    "\n",
    "print(avg_price)"
   ]
  },
  {
   "cell_type": "code",
   "execution_count": 78,
   "id": "0d4db98f",
   "metadata": {},
   "outputs": [
    {
     "name": "stderr",
     "output_type": "stream",
     "text": [
      "/Users/hudaquazi/opt/anaconda3/lib/python3.9/site-packages/seaborn/categorical.py:381: DeprecationWarning: distutils Version classes are deprecated. Use packaging.version instead.\n",
      "  if LooseVersion(mpl.__version__) < \"3.0\":\n",
      "/Users/hudaquazi/opt/anaconda3/lib/python3.9/site-packages/setuptools/_distutils/version.py:351: DeprecationWarning: distutils Version classes are deprecated. Use packaging.version instead.\n",
      "  other = LooseVersion(other)\n"
     ]
    },
    {
     "data": {
      "image/png": "[encoded data removed]",
      "text/plain": [
       "<Figure size 720x432 with 1 Axes>"
      ]
     },
     "metadata": {
      "needs_background": "light"
     },
     "output_type": "display_data"
    }
   ],
   "source": [
    "# Create the plot using Seaborn's barplot\n",
    "plt.figure(figsize=(10, 6))\n",
    "sns.barplot(data=avg_price, x='LIFESTAGE', y='AVG', hue='PREMIUM_CUSTOMER', dodge=True)\n",
    "\n",
    "# Set labels and title\n",
    "plt.xlabel('Lifestage', fontsize=15)\n",
    "plt.ylabel('Avg price per unit', fontsize=15)\n",
    "plt.title('Price per unit', fontsize=20)\n",
    "\n",
    "# Rotate x-axis tick labels by 90 degrees\n",
    "plt.xticks(rotation=90)\n",
    "\n",
    "# Display the legend\n",
    "plt.legend(title='Premium customer flag')\n",
    "\n",
    "# Display the plot\n",
    "plt.tight_layout()\n",
    "plt.show()"
   ]
  },
  {
   "cell_type": "markdown",
   "id": "3d1024f3",
   "metadata": {},
   "source": [
    "Mainstream midage and young singles and couples are more willing to pay more per packet of chips compared to their budget and premium counterparts. This may be due to premium shoppers being more likely to buy healthy snacks and when they buy chips, this is mainly for entertainment purposes rather than their own consumption. This is also supported by there being fewer premium midage and young singles and couples buying chips compared to their mainstream counterparts.\n",
    "As the difference in average price per unit isn't large, we can check if this difference is statistically different."
   ]
  },
  {
   "cell_type": "markdown",
   "id": "3c05681e",
   "metadata": {},
   "source": [
    "#### Perform an independent t-test between mainstream vs premium and budget midage and young singles and couples"
   ]
  },
  {
   "cell_type": "code",
   "execution_count": 44,
   "id": "480a9151",
   "metadata": {},
   "outputs": [],
   "source": [
    "data['PRICE'] = data['TOT_SALES']/data['PROD_QTY']"
   ]
  },
  {
   "cell_type": "markdown",
   "id": "57f8fb03",
   "metadata": {},
   "source": [
    "- **H0** = Mainstream midage and young singles and couples are **NOT** willing to pay more per packet of chips compared to their budget and premium counterparts.\n",
    "- **HA** = Mainstream midage and young singles and couples are **MORE** willing to pay more per packet of chips compared to their budget and premium counterparts. "
   ]
  },
  {
   "cell_type": "code",
   "execution_count": 45,
   "id": "aaac2cfc",
   "metadata": {},
   "outputs": [],
   "source": [
    "# Subset the data for the two groups\n",
    "mainstream_group = data[(data['LIFESTAGE'].isin([\"YOUNG SINGLES/COUPLES\", \"MIDAGE SINGLES/COUPLES\"])) &\n",
    "                        (data['PREMIUM_CUSTOMER'] == \"Mainstream\")]['PRICE']\n",
    "premium_budget_group = data[(data['LIFESTAGE'].isin([\"YOUNG SINGLES/COUPLES\", \"MIDAGE SINGLES/COUPLES\"])) &\n",
    "                            (data['PREMIUM_CUSTOMER'] != \"Mainstream\")]['PRICE']\n"
   ]
  },
  {
   "cell_type": "code",
   "execution_count": 46,
   "id": "b5ad097d",
   "metadata": {},
   "outputs": [
    {
     "data": {
      "text/plain": [
       "0.05"
      ]
     },
     "execution_count": 46,
     "metadata": {},
     "output_type": "execute_result"
    }
   ],
   "source": [
    "# For this analysis, the significance level is 5%\n",
    "\n",
    "significance_level = 0.05\n",
    "significance_level"
   ]
  },
  {
   "cell_type": "code",
   "execution_count": 47,
   "id": "e249d802",
   "metadata": {},
   "outputs": [
    {
     "name": "stdout",
     "output_type": "stream",
     "text": [
      "T-statistic: 37.83196107667815\n",
      "P-value: 1.11782280577468e-309\n"
     ]
    }
   ],
   "source": [
    "# Compute your p-value here\n",
    "\n",
    "# Perform a one-tailed t-test with alternative \"greater\"\n",
    "t_statistic, p_value = stats.ttest_ind(mainstream_group, premium_budget_group, alternative='greater')\n",
    "print(f\"T-statistic: {t_statistic}\")\n",
    "print(f\"P-value: {p_value}\")"
   ]
  },
  {
   "cell_type": "markdown",
   "id": "68cde6ba",
   "metadata": {},
   "source": [
    "- With a p-value (1.11 e-309) being very very less than 0.05 (as your significance level is 5%) and a t-statistic > 0 (37.83), **reject the null hypothesis.**\n",
    "- Therefore, you can conclude with 95% confidence interval (i.e. 5% significance level) that **Mainstream midage and young singles and couples are more willing to pay more per packet of chips compared to their budget and premium counterparts**. \n",
    "- The t-test results in a p-value of 1.11 e-309, i.e. the unit price for mainstream, young and mid-age singles and couples **ARE significantly higher** than that of budget or premium, young and midage singles and couples."
   ]
  },
  {
   "cell_type": "markdown",
   "id": "e439c38a",
   "metadata": {},
   "source": [
    "#### Deep dive into Mainstream, young singles/couples"
   ]
  },
  {
   "cell_type": "markdown",
   "id": "e45521b2",
   "metadata": {},
   "source": [
    "We might want to target customer segments that contribute the most to sales to retain them or further increase sales. Let's look at Mainstream - young singles/couples. For instance, let's find out if they tend to buy a particular brand of chips."
   ]
  },
  {
   "cell_type": "code",
   "execution_count": 48,
   "id": "c4d812d1",
   "metadata": {},
   "outputs": [
    {
     "data": {
      "text/html": [
       "<div>\n",
       "<style scoped>\n",
       "    .dataframe tbody tr th:only-of-type {\n",
       "        vertical-align: middle;\n",
       "    }\n",
       "\n",
       "    .dataframe tbody tr th {\n",
       "        vertical-align: top;\n",
       "    }\n",
       "\n",
       "    .dataframe thead th {\n",
       "        text-align: right;\n",
       "    }\n",
       "</style>\n",
       "<table border=\"1\" class=\"dataframe\">\n",
       "  <thead>\n",
       "    <tr style=\"text-align: right;\">\n",
       "      <th></th>\n",
       "      <th>BRAND</th>\n",
       "      <th>targetSegment</th>\n",
       "      <th>other</th>\n",
       "      <th>affinityToBrand</th>\n",
       "    </tr>\n",
       "  </thead>\n",
       "  <tbody>\n",
       "    <tr>\n",
       "      <th>18</th>\n",
       "      <td>Tyrrells</td>\n",
       "      <td>0.031553</td>\n",
       "      <td>0.025692</td>\n",
       "      <td>1.228095</td>\n",
       "    </tr>\n",
       "    <tr>\n",
       "      <th>17</th>\n",
       "      <td>Twisties</td>\n",
       "      <td>0.046184</td>\n",
       "      <td>0.037877</td>\n",
       "      <td>1.219319</td>\n",
       "    </tr>\n",
       "    <tr>\n",
       "      <th>5</th>\n",
       "      <td>Doritos</td>\n",
       "      <td>0.122761</td>\n",
       "      <td>0.101075</td>\n",
       "      <td>1.214553</td>\n",
       "    </tr>\n",
       "    <tr>\n",
       "      <th>9</th>\n",
       "      <td>Kettle</td>\n",
       "      <td>0.197985</td>\n",
       "      <td>0.165553</td>\n",
       "      <td>1.195897</td>\n",
       "    </tr>\n",
       "    <tr>\n",
       "      <th>16</th>\n",
       "      <td>Tostitos</td>\n",
       "      <td>0.045411</td>\n",
       "      <td>0.037978</td>\n",
       "      <td>1.195713</td>\n",
       "    </tr>\n",
       "    <tr>\n",
       "      <th>11</th>\n",
       "      <td>Pringles</td>\n",
       "      <td>0.119420</td>\n",
       "      <td>0.100635</td>\n",
       "      <td>1.186670</td>\n",
       "    </tr>\n",
       "    <tr>\n",
       "      <th>4</th>\n",
       "      <td>Cobs</td>\n",
       "      <td>0.044638</td>\n",
       "      <td>0.039049</td>\n",
       "      <td>1.143124</td>\n",
       "    </tr>\n",
       "    <tr>\n",
       "      <th>8</th>\n",
       "      <td>Infuzions</td>\n",
       "      <td>0.064679</td>\n",
       "      <td>0.057065</td>\n",
       "      <td>1.133435</td>\n",
       "    </tr>\n",
       "    <tr>\n",
       "      <th>15</th>\n",
       "      <td>Thins</td>\n",
       "      <td>0.060373</td>\n",
       "      <td>0.056986</td>\n",
       "      <td>1.059423</td>\n",
       "    </tr>\n",
       "    <tr>\n",
       "      <th>7</th>\n",
       "      <td>GrnWves</td>\n",
       "      <td>0.032712</td>\n",
       "      <td>0.031188</td>\n",
       "      <td>1.048873</td>\n",
       "    </tr>\n",
       "    <tr>\n",
       "      <th>3</th>\n",
       "      <td>Cheezels</td>\n",
       "      <td>0.017971</td>\n",
       "      <td>0.018647</td>\n",
       "      <td>0.963753</td>\n",
       "    </tr>\n",
       "    <tr>\n",
       "      <th>13</th>\n",
       "      <td>Smith</td>\n",
       "      <td>0.096370</td>\n",
       "      <td>0.124584</td>\n",
       "      <td>0.773536</td>\n",
       "    </tr>\n",
       "    <tr>\n",
       "      <th>6</th>\n",
       "      <td>French</td>\n",
       "      <td>0.003948</td>\n",
       "      <td>0.005758</td>\n",
       "      <td>0.685569</td>\n",
       "    </tr>\n",
       "    <tr>\n",
       "      <th>2</th>\n",
       "      <td>Cheetos</td>\n",
       "      <td>0.008033</td>\n",
       "      <td>0.012067</td>\n",
       "      <td>0.665733</td>\n",
       "    </tr>\n",
       "    <tr>\n",
       "      <th>12</th>\n",
       "      <td>RRD</td>\n",
       "      <td>0.043810</td>\n",
       "      <td>0.067494</td>\n",
       "      <td>0.649091</td>\n",
       "    </tr>\n",
       "    <tr>\n",
       "      <th>10</th>\n",
       "      <td>NCC</td>\n",
       "      <td>0.019600</td>\n",
       "      <td>0.030854</td>\n",
       "      <td>0.635241</td>\n",
       "    </tr>\n",
       "    <tr>\n",
       "      <th>1</th>\n",
       "      <td>CCs</td>\n",
       "      <td>0.011180</td>\n",
       "      <td>0.018896</td>\n",
       "      <td>0.591677</td>\n",
       "    </tr>\n",
       "    <tr>\n",
       "      <th>14</th>\n",
       "      <td>Sunbites</td>\n",
       "      <td>0.006349</td>\n",
       "      <td>0.012580</td>\n",
       "      <td>0.504698</td>\n",
       "    </tr>\n",
       "    <tr>\n",
       "      <th>19</th>\n",
       "      <td>WW</td>\n",
       "      <td>0.024099</td>\n",
       "      <td>0.049427</td>\n",
       "      <td>0.487573</td>\n",
       "    </tr>\n",
       "    <tr>\n",
       "      <th>0</th>\n",
       "      <td>Burger</td>\n",
       "      <td>0.002926</td>\n",
       "      <td>0.006596</td>\n",
       "      <td>0.443597</td>\n",
       "    </tr>\n",
       "  </tbody>\n",
       "</table>\n",
       "</div>"
      ],
      "text/plain": [
       "        BRAND  targetSegment     other  affinityToBrand\n",
       "18   Tyrrells       0.031553  0.025692         1.228095\n",
       "17   Twisties       0.046184  0.037877         1.219319\n",
       "5     Doritos       0.122761  0.101075         1.214553\n",
       "9      Kettle       0.197985  0.165553         1.195897\n",
       "16   Tostitos       0.045411  0.037978         1.195713\n",
       "11   Pringles       0.119420  0.100635         1.186670\n",
       "4        Cobs       0.044638  0.039049         1.143124\n",
       "8   Infuzions       0.064679  0.057065         1.133435\n",
       "15      Thins       0.060373  0.056986         1.059423\n",
       "7     GrnWves       0.032712  0.031188         1.048873\n",
       "3    Cheezels       0.017971  0.018647         0.963753\n",
       "13      Smith       0.096370  0.124584         0.773536\n",
       "6      French       0.003948  0.005758         0.685569\n",
       "2     Cheetos       0.008033  0.012067         0.665733\n",
       "12        RRD       0.043810  0.067494         0.649091\n",
       "10        NCC       0.019600  0.030854         0.635241\n",
       "1         CCs       0.011180  0.018896         0.591677\n",
       "14   Sunbites       0.006349  0.012580         0.504698\n",
       "19         WW       0.024099  0.049427         0.487573\n",
       "0      Burger       0.002926  0.006596         0.443597"
      ]
     },
     "execution_count": 48,
     "metadata": {},
     "output_type": "execute_result"
    }
   ],
   "source": [
    "# Create 'segment1' and 'other' DataFrames\n",
    "segment1 = data[(data['LIFESTAGE'] == \"YOUNG SINGLES/COUPLES\") & (data['PREMIUM_CUSTOMER'] == \"Mainstream\")]\n",
    "other = data[~((data['LIFESTAGE'] == \"YOUNG SINGLES/COUPLES\") & (data['PREMIUM_CUSTOMER'] == \"Mainstream\"))]\n",
    "\n",
    "# Calculate quantities for segment1 and other\n",
    "quantity_segment1 = segment1['PROD_QTY'].sum()\n",
    "quantity_other = other['PROD_QTY'].sum()\n",
    "\n",
    "# Calculate proportions for segment1 DataFrame\n",
    "quantity_segment1_by_brand = segment1.groupby('BRAND').apply(lambda x: x['PROD_QTY'].sum() / quantity_segment1)\n",
    "quantity_segment1_by_brand = quantity_segment1_by_brand.reset_index(name='targetSegment')\n",
    "\n",
    "# Calculate proportions for other DataFrame\n",
    "quantity_other_by_brand = other.groupby('BRAND').apply(lambda x: x['PROD_QTY'].sum() / quantity_other)\n",
    "quantity_other_by_brand = quantity_other_by_brand.reset_index(name='other')\n",
    "\n",
    "# Merge the two DataFrames based on BRAND\n",
    "brand_proportions = pd.merge(quantity_segment1_by_brand, quantity_other_by_brand, on='BRAND')\n",
    "\n",
    "# Calculate affinityToBrand\n",
    "brand_proportions['affinityToBrand'] = brand_proportions['targetSegment'] / brand_proportions['other']\n",
    "\n",
    "# Order by affinityToBrand in descending order\n",
    "brand_proportions = brand_proportions.sort_values(by='affinityToBrand', ascending=False)\n",
    "\n",
    "brand_proportions\n"
   ]
  },
  {
   "cell_type": "markdown",
   "id": "a666dfde",
   "metadata": {},
   "source": [
    "- Mainstream young singles/couples are 22% more likely to purchase Tyrrells chips compared to the rest of the population\n",
    "- Mainstream youngsingles/couples are 56% less likely to purchase Burger compared to the rest of the population"
   ]
  },
  {
   "cell_type": "markdown",
   "id": "4fa4b15c",
   "metadata": {},
   "source": [
    "Let’s also find out if our target segment tends to buy larger packs of chips."
   ]
  },
  {
   "cell_type": "code",
   "execution_count": 49,
   "id": "a52f5bb6",
   "metadata": {},
   "outputs": [
    {
     "data": {
      "text/html": [
       "<div>\n",
       "<style scoped>\n",
       "    .dataframe tbody tr th:only-of-type {\n",
       "        vertical-align: middle;\n",
       "    }\n",
       "\n",
       "    .dataframe tbody tr th {\n",
       "        vertical-align: top;\n",
       "    }\n",
       "\n",
       "    .dataframe thead th {\n",
       "        text-align: right;\n",
       "    }\n",
       "</style>\n",
       "<table border=\"1\" class=\"dataframe\">\n",
       "  <thead>\n",
       "    <tr style=\"text-align: right;\">\n",
       "      <th></th>\n",
       "      <th>PACK_SIZE</th>\n",
       "      <th>targetSegment</th>\n",
       "      <th>other</th>\n",
       "      <th>affinityToPack</th>\n",
       "    </tr>\n",
       "  </thead>\n",
       "  <tbody>\n",
       "    <tr>\n",
       "      <th>17</th>\n",
       "      <td>270</td>\n",
       "      <td>0.031829</td>\n",
       "      <td>0.025096</td>\n",
       "      <td>1.268287</td>\n",
       "    </tr>\n",
       "    <tr>\n",
       "      <th>19</th>\n",
       "      <td>380</td>\n",
       "      <td>0.032160</td>\n",
       "      <td>0.025584</td>\n",
       "      <td>1.257030</td>\n",
       "    </tr>\n",
       "    <tr>\n",
       "      <th>18</th>\n",
       "      <td>330</td>\n",
       "      <td>0.061284</td>\n",
       "      <td>0.050162</td>\n",
       "      <td>1.221717</td>\n",
       "    </tr>\n",
       "    <tr>\n",
       "      <th>4</th>\n",
       "      <td>134</td>\n",
       "      <td>0.119420</td>\n",
       "      <td>0.100635</td>\n",
       "      <td>1.186670</td>\n",
       "    </tr>\n",
       "    <tr>\n",
       "      <th>2</th>\n",
       "      <td>110</td>\n",
       "      <td>0.106280</td>\n",
       "      <td>0.089791</td>\n",
       "      <td>1.183637</td>\n",
       "    </tr>\n",
       "    <tr>\n",
       "      <th>14</th>\n",
       "      <td>210</td>\n",
       "      <td>0.029124</td>\n",
       "      <td>0.025121</td>\n",
       "      <td>1.159318</td>\n",
       "    </tr>\n",
       "    <tr>\n",
       "      <th>5</th>\n",
       "      <td>135</td>\n",
       "      <td>0.014769</td>\n",
       "      <td>0.013075</td>\n",
       "      <td>1.129511</td>\n",
       "    </tr>\n",
       "    <tr>\n",
       "      <th>16</th>\n",
       "      <td>250</td>\n",
       "      <td>0.014355</td>\n",
       "      <td>0.012781</td>\n",
       "      <td>1.123166</td>\n",
       "    </tr>\n",
       "    <tr>\n",
       "      <th>9</th>\n",
       "      <td>170</td>\n",
       "      <td>0.080773</td>\n",
       "      <td>0.080986</td>\n",
       "      <td>0.997370</td>\n",
       "    </tr>\n",
       "    <tr>\n",
       "      <th>6</th>\n",
       "      <td>150</td>\n",
       "      <td>0.157598</td>\n",
       "      <td>0.163421</td>\n",
       "      <td>0.964372</td>\n",
       "    </tr>\n",
       "    <tr>\n",
       "      <th>10</th>\n",
       "      <td>175</td>\n",
       "      <td>0.254990</td>\n",
       "      <td>0.270007</td>\n",
       "      <td>0.944382</td>\n",
       "    </tr>\n",
       "    <tr>\n",
       "      <th>8</th>\n",
       "      <td>165</td>\n",
       "      <td>0.055652</td>\n",
       "      <td>0.062268</td>\n",
       "      <td>0.893757</td>\n",
       "    </tr>\n",
       "    <tr>\n",
       "      <th>12</th>\n",
       "      <td>190</td>\n",
       "      <td>0.007481</td>\n",
       "      <td>0.012442</td>\n",
       "      <td>0.601271</td>\n",
       "    </tr>\n",
       "    <tr>\n",
       "      <th>11</th>\n",
       "      <td>180</td>\n",
       "      <td>0.003589</td>\n",
       "      <td>0.006067</td>\n",
       "      <td>0.591538</td>\n",
       "    </tr>\n",
       "    <tr>\n",
       "      <th>7</th>\n",
       "      <td>160</td>\n",
       "      <td>0.006404</td>\n",
       "      <td>0.012373</td>\n",
       "      <td>0.517616</td>\n",
       "    </tr>\n",
       "    <tr>\n",
       "      <th>1</th>\n",
       "      <td>90</td>\n",
       "      <td>0.006349</td>\n",
       "      <td>0.012580</td>\n",
       "      <td>0.504698</td>\n",
       "    </tr>\n",
       "    <tr>\n",
       "      <th>3</th>\n",
       "      <td>125</td>\n",
       "      <td>0.003009</td>\n",
       "      <td>0.006037</td>\n",
       "      <td>0.498442</td>\n",
       "    </tr>\n",
       "    <tr>\n",
       "      <th>13</th>\n",
       "      <td>200</td>\n",
       "      <td>0.008972</td>\n",
       "      <td>0.018656</td>\n",
       "      <td>0.480899</td>\n",
       "    </tr>\n",
       "    <tr>\n",
       "      <th>0</th>\n",
       "      <td>70</td>\n",
       "      <td>0.003037</td>\n",
       "      <td>0.006322</td>\n",
       "      <td>0.480292</td>\n",
       "    </tr>\n",
       "    <tr>\n",
       "      <th>15</th>\n",
       "      <td>220</td>\n",
       "      <td>0.002926</td>\n",
       "      <td>0.006596</td>\n",
       "      <td>0.443597</td>\n",
       "    </tr>\n",
       "  </tbody>\n",
       "</table>\n",
       "</div>"
      ],
      "text/plain": [
       "    PACK_SIZE  targetSegment     other  affinityToPack\n",
       "17        270       0.031829  0.025096        1.268287\n",
       "19        380       0.032160  0.025584        1.257030\n",
       "18        330       0.061284  0.050162        1.221717\n",
       "4         134       0.119420  0.100635        1.186670\n",
       "2         110       0.106280  0.089791        1.183637\n",
       "14        210       0.029124  0.025121        1.159318\n",
       "5         135       0.014769  0.013075        1.129511\n",
       "16        250       0.014355  0.012781        1.123166\n",
       "9         170       0.080773  0.080986        0.997370\n",
       "6         150       0.157598  0.163421        0.964372\n",
       "10        175       0.254990  0.270007        0.944382\n",
       "8         165       0.055652  0.062268        0.893757\n",
       "12        190       0.007481  0.012442        0.601271\n",
       "11        180       0.003589  0.006067        0.591538\n",
       "7         160       0.006404  0.012373        0.517616\n",
       "1          90       0.006349  0.012580        0.504698\n",
       "3         125       0.003009  0.006037        0.498442\n",
       "13        200       0.008972  0.018656        0.480899\n",
       "0          70       0.003037  0.006322        0.480292\n",
       "15        220       0.002926  0.006596        0.443597"
      ]
     },
     "execution_count": 49,
     "metadata": {},
     "output_type": "execute_result"
    }
   ],
   "source": [
    "\n",
    "# Create 'segment1' and 'other' DataFrames\n",
    "segment1 = data[(data['LIFESTAGE'] == \"YOUNG SINGLES/COUPLES\") & (data['PREMIUM_CUSTOMER'] == \"Mainstream\")]\n",
    "other = data[~((data['LIFESTAGE'] == \"YOUNG SINGLES/COUPLES\") & (data['PREMIUM_CUSTOMER'] == \"Mainstream\"))]\n",
    "\n",
    "# Calculate quantities for segment1 and other\n",
    "quantity_segment1 = segment1['PROD_QTY'].sum()\n",
    "quantity_other = other['PROD_QTY'].sum()\n",
    "\n",
    "# Calculate proportions for segment1 DataFrame\n",
    "quantity_segment1_by_pack = segment1.groupby('PACK_SIZE').apply(lambda x: x['PROD_QTY'].sum() / quantity_segment1)\n",
    "quantity_segment1_by_pack = quantity_segment1_by_pack.reset_index(name='targetSegment')\n",
    "\n",
    "# Calculate proportions for other DataFrame\n",
    "quantity_other_by_pack = other.groupby('PACK_SIZE').apply(lambda x: x['PROD_QTY'].sum() / quantity_other)\n",
    "quantity_other_by_pack = quantity_other_by_pack.reset_index(name='other')\n",
    "\n",
    "# Merge the two DataFrames based on PACK_SIZE\n",
    "pack_proportions = pd.merge(quantity_segment1_by_pack, quantity_other_by_pack, on='PACK_SIZE')\n",
    "\n",
    "# Calculate affinityToPack\n",
    "pack_proportions['affinityToPack'] = pack_proportions['targetSegment'] / pack_proportions['other']\n",
    "\n",
    "# Order by affinityToPack in descending order\n",
    "pack_proportions = pack_proportions.sort_values(by='affinityToPack', ascending=False)\n",
    "\n",
    "pack_proportions\n"
   ]
  },
  {
   "cell_type": "markdown",
   "id": "cf1e196b",
   "metadata": {},
   "source": [
    "It looks like Mainstream young singles/couples are 27% more likely to purchase a 270g pack of chips com- pared to the rest of the population but let’s dive into what brands sell this pack size."
   ]
  },
  {
   "cell_type": "code",
   "execution_count": 50,
   "id": "6b8dbdec",
   "metadata": {},
   "outputs": [
    {
     "data": {
      "text/plain": [
       "array(['Twisties Cheese     270g', 'Twisties Chicken270g'], dtype=object)"
      ]
     },
     "execution_count": 50,
     "metadata": {},
     "output_type": "execute_result"
    }
   ],
   "source": [
    "data[data['PACK_SIZE'] == 270]['PROD_NAME'].unique()"
   ]
  },
  {
   "cell_type": "markdown",
   "id": "40d3f022",
   "metadata": {},
   "source": [
    "Twisties are the only brand offering 270g packs and so this may instead be reflecting a higher likelihood of purchasing Twisties."
   ]
  },
  {
   "cell_type": "markdown",
   "id": "15107586",
   "metadata": {},
   "source": [
    "## Conclusion\n",
    "\n",
    "- Sales have mainly been due to Budget - older families, Mainstream - young singles/couples, and Mainstream - retirees shoppers. \n",
    "- We found that the high spend in chips for mainstream young singles/couples and retirees is due to there being more of them than other buyers. \n",
    "- Mainstream, midage and young singles and couples are also more likely to pay more per packet of chips. This is indicative of impulse buying behaviour. \n",
    "- We’ve also found that Mainstream young singles and couples are 23% more likely to purchase Tyrrells chips compared to the rest of the population. The Category Manager may want to increase the category’s performance by off-locating some Tyrrells and smaller packs of chips in discretionary space near segments where young singles and couples frequent more often to increase visibilty and impulse behaviour."
   ]
  },
  {
   "cell_type": "code",
   "execution_count": null,
   "id": "a0a4127b",
   "metadata": {},
   "outputs": [],
   "source": []
  }
 ],
 "metadata": {
  "kernelspec": {
   "display_name": "Python 3 (ipykernel)",
   "language": "python",
   "name": "python3"
  },
  "language_info": {
   "codemirror_mode": {
    "name": "ipython",
    "version": 3
   },
   "file_extension": ".py",
   "mimetype": "text/x-python",
   "name": "python",
   "nbconvert_exporter": "python",
   "pygments_lexer": "ipython3",
   "version": "3.9.12"
  }
 },
 "nbformat": 4,
 "nbformat_minor": 5
}
